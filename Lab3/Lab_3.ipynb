{
  "nbformat": 4,
  "nbformat_minor": 0,
  "metadata": {
    "colab": {
      "provenance": []
    },
    "kernelspec": {
      "name": "python3",
      "display_name": "Python 3"
    },
    "language_info": {
      "name": "python"
    },
    "accelerator": "GPU",
    "gpuClass": "standard"
  },
  "cells": [
    {
      "cell_type": "markdown",
      "source": [
        "6856: Ahmed Yasser Mohamed Dusuki  \n",
        "6940: Ahmed Ashraf Abdelkarim Hussein  \n",
        "6921: Hazem Abdelsalam  \n",
        "6962: Abdelrahman Sewelam  \n",
        "\n",
        "---\n"
      ],
      "metadata": {
        "id": "ww288e6z_eU9"
      }
    },
    {
      "cell_type": "markdown",
      "source": [
        "*All imports.*"
      ],
      "metadata": {
        "id": "7bNWCxRvliFX"
      }
    },
    {
      "cell_type": "code",
      "source": [
        "import pandas as pd\n",
        "import matplotlib.pyplot as plt\n",
        "from sklearn import metrics\n",
        "from sklearn.preprocessing import scale\n",
        "from sklearn.model_selection import train_test_split\n",
        "from sklearn.model_selection import GridSearchCV\n",
        "from sklearn.tree import DecisionTreeClassifier\n",
        "from sklearn.ensemble import AdaBoostClassifier\n",
        "from sklearn.neighbors import KNeighborsClassifier\n",
        "from sklearn.ensemble import RandomForestClassifier\n",
        "from sklearn.naive_bayes import GaussianNB\n",
        "from sklearn.model_selection import StratifiedKFold\n",
        "import random\n",
        "import numpy as np\n",
        "from torch import nn\n",
        "from torch.utils.data import Dataset,TensorDataset\n",
        "import torch\n",
        "\n",
        "\n",
        "SEED = 42\n",
        "random.seed(SEED)\n",
        "np.random.seed(SEED)\n",
        "torch.manual_seed(SEED)\n",
        "torch.cuda.manual_seed(SEED)\n",
        "torch.cuda.manual_seed_all(SEED)"
      ],
      "metadata": {
        "id": "iZvxzmbrlhqQ"
      },
      "execution_count": null,
      "outputs": []
    },
    {
      "cell_type": "markdown",
      "source": [
        "Using pandas to get the data."
      ],
      "metadata": {
        "id": "z6ewwGQ6bqdN"
      }
    },
    {
      "cell_type": "code",
      "execution_count": null,
      "metadata": {
        "id": "Bo-WGNolYPx5"
      },
      "outputs": [],
      "source": [
        "import pandas as pd\n",
        "\n",
        "data_url = (\n",
        "    \"https://archive.ics.uci.edu/ml/machine-learning-databases/magic/magic04.data\"\n",
        ")\n",
        "col_names = [\n",
        "    \"fLength\",\n",
        "    \"fWidth\",\n",
        "    \"fSize\",\n",
        "    \"fConc\",\n",
        "    \"fConc1\",\n",
        "    \"fAsym\",\n",
        "    \"fM3Long\",\n",
        "    \"fM3Trans\",\n",
        "    \"fAlpha\",\n",
        "    \"fDist\",\n",
        "    \"class\",\n",
        "]\n",
        "df = pd.read_csv(data_url, names=col_names, header=None)"
      ]
    },
    {
      "cell_type": "markdown",
      "source": [
        "Randomly balancing the data."
      ],
      "metadata": {
        "id": "9ycU89FCbw8R"
      }
    },
    {
      "cell_type": "code",
      "source": [
        "g = df.groupby(\"class\")\n",
        "balanced_df = pd.DataFrame(\n",
        "    g.apply(\n",
        "        lambda x: x.sample(g.size().min(), random_state=SEED).reset_index(drop=True)\n",
        "    )\n",
        ")\n"
      ],
      "metadata": {
        "id": "Sgy-n3WCZ7NU"
      },
      "execution_count": null,
      "outputs": []
    },
    {
      "cell_type": "markdown",
      "source": [
        "Splitting data into 70% training and 30% testing."
      ],
      "metadata": {
        "id": "igznXwj4e-N2"
      }
    },
    {
      "cell_type": "code",
      "source": [
        "from sklearn.model_selection import train_test_split\n",
        "\n",
        "X = balanced_df[col_names[: len(col_names) - 1]]\n",
        "y = balanced_df[\"class\"]\n",
        "\n",
        "train_count = round(0.7 * (balanced_df.shape[0] / 2)) * 2\n",
        "train_percentage = train_count / balanced_df.shape[0]\n",
        "\n",
        "X_train, X_test, y_train, y_test = train_test_split(\n",
        "    X, y, stratify=y, train_size=train_percentage, random_state=SEED\n",
        ")  # 70% training and 30% test, stratify to stay balanced"
      ],
      "metadata": {
        "id": "J-01qhLhbZj3"
      },
      "execution_count": null,
      "outputs": []
    },
    {
      "cell_type": "markdown",
      "source": [
        "Splitting data into 70% training and 30% testing. (With feature scaling)"
      ],
      "metadata": {
        "id": "pdbZ1Ub2DLAo"
      }
    },
    {
      "cell_type": "code",
      "source": [
        "from sklearn.model_selection import train_test_split\n",
        "from sklearn.preprocessing import scale\n",
        "\n",
        "X = balanced_df[col_names[: len(col_names) - 1]]\n",
        "y = balanced_df[\"class\"]\n",
        "Xs = (X-X.min())/(X.max()-X.min())\n",
        "\n",
        "train_count = round(0.7 * (balanced_df.shape[0] / 2)) * 2\n",
        "train_percentage = train_count / balanced_df.shape[0]\n",
        "\n",
        "Xs_train, Xs_test, y_train, y_test = train_test_split(\n",
        "    Xs, y, stratify=y, train_size=train_percentage, random_state=SEED\n",
        ")  # 70% training and 30% test, stratify to stay balanced"
      ],
      "metadata": {
        "id": "l8bY_DC1DKCk"
      },
      "execution_count": null,
      "outputs": []
    },
    {
      "cell_type": "markdown",
      "source": [
        "**Decision Tree.**"
      ],
      "metadata": {
        "id": "Priay5MFgHYA"
      }
    },
    {
      "cell_type": "code",
      "source": [
        "from sklearn.tree import DecisionTreeClassifier\n",
        "from sklearn import metrics\n",
        "import matplotlib.pyplot as plt\n",
        "\n",
        "\n",
        "clf = DecisionTreeClassifier(random_state=SEED)  # Create Decision Tree classifer object\n",
        "clf = clf.fit(X_train, y_train)  # Train Decision Tree Classifer\n",
        "\n",
        "y_pred = clf.predict(X_test)  # Prediction for test data\n",
        "\n",
        "print(f\"Accuracy: {round(metrics.accuracy_score(y_test, y_pred),2)}\")\n",
        "\n",
        "scores_pos = metrics.precision_recall_fscore_support(\n",
        "    y_test, y_pred, average=None, labels=[\"g\"]\n",
        ")\n",
        "precision = scores_pos[0][0]\n",
        "recall = scores_pos[1][0]\n",
        "f1score = scores_pos[2][0]\n",
        "specificity = metrics.precision_recall_fscore_support(\n",
        "    y_test, y_pred, average=None, labels=[\"h\"]\n",
        ")[1][\n",
        "    0\n",
        "]  # specificity is recall of negative class\n",
        "\n",
        "print(f\"Precision: {round(precision,2)}\")\n",
        "print(f\"recall: {round(recall,2)}\")\n",
        "print(f\"specificity: {round(specificity,2)}\")\n",
        "print(f\"f1-score: {round(f1score,2)}\")\n",
        "\n",
        "conf_matrix = metrics.confusion_matrix(\n",
        "    y_true=y_test, y_pred=y_pred, labels=[\"h\", \"g\"]\n",
        ")  # h is negative, g is positive\n",
        "\n",
        "\n",
        "fig, ax = plt.subplots(figsize=(5, 5))\n",
        "ax.matshow(conf_matrix, cmap=plt.cm.Oranges, alpha=0.3)\n",
        "for i in range(conf_matrix.shape[0]):\n",
        "    for j in range(conf_matrix.shape[1]):\n",
        "        ax.text(\n",
        "            x=j, y=i, s=conf_matrix[i, j], va=\"center\", ha=\"center\", size=\"xx-large\"\n",
        "        )\n",
        "plt.xlabel(\"Predictions\", fontsize=18)\n",
        "plt.ylabel(\"Actuals\", fontsize=18)\n",
        "plt.title(\"Confusion Matrix\", fontsize=18)\n",
        "plt.show()"
      ],
      "metadata": {
        "colab": {
          "base_uri": "https://localhost:8080/",
          "height": 445
        },
        "id": "I-QJ7Uh4gK1-",
        "outputId": "e3d8de37-39c8-4205-b74d-a05056537305"
      },
      "execution_count": null,
      "outputs": [
        {
          "output_type": "stream",
          "name": "stdout",
          "text": [
            "Accuracy: 0.79\n",
            "Precision: 0.79\n",
            "recall: 0.8\n",
            "specificity: 0.79\n",
            "f1-score: 0.79\n"
          ]
        },
        {
          "output_type": "display_data",
          "data": {
            "text/plain": [
              "<Figure size 360x360 with 1 Axes>"
            ],
            "image/png": "[encoded data removed]"
          },
          "metadata": {
            "needs_background": "light"
          }
        }
      ]
    },
    {
      "cell_type": "markdown",
      "source": [
        "**AdaBoost.**"
      ],
      "metadata": {
        "id": "PyYgk2P_qcfX"
      }
    },
    {
      "cell_type": "markdown",
      "source": [
        "Perform grid search (step = 10) with cross validation (10 splits)."
      ],
      "metadata": {
        "id": "34r60gwFqfDF"
      }
    },
    {
      "cell_type": "code",
      "source": [
        "from sklearn.ensemble import AdaBoostClassifier\n",
        "from sklearn.model_selection import GridSearchCV\n",
        "\n",
        "ab = AdaBoostClassifier(random_state=SEED)\n",
        "\n",
        "# Perform grid search with cross-validation\n",
        "param_grid = {\"n_estimators\": range(1, 100, 10)}\n",
        "gscv = GridSearchCV(ab, param_grid, cv=10)  # 10 splits\n",
        "gscv.fit(X_train, y_train)\n",
        "\n",
        "print(\"Best params:\", gscv.best_params_)\n",
        "print(\"Best cross-validation score:\", gscv.best_score_)\n",
        "\n",
        "fig, ax = plt.subplots(figsize=(15, 5))\n",
        "ax.bar(param_grid[\"n_estimators\"], gscv.cv_results_[\"mean_test_score\"])\n",
        "ax.set_xticks(param_grid[\"n_estimators\"])\n",
        "ax.set_xlabel(\"n_estimators\")\n",
        "ax.set_ylabel(\"Cross-validation score\")\n",
        "ax.set_ylim((0.7, 0.85))"
      ],
      "metadata": {
        "colab": {
          "base_uri": "https://localhost:8080/",
          "height": 387
        },
        "id": "jMhchDFVqeit",
        "outputId": "190878b5-d6d7-424e-c0a0-4f49e904de52"
      },
      "execution_count": null,
      "outputs": [
        {
          "output_type": "stream",
          "name": "stdout",
          "text": [
            "Best params: {'n_estimators': 91}\n",
            "Best cross-validation score: 0.8147187331819135\n"
          ]
        },
        {
          "output_type": "execute_result",
          "data": {
            "text/plain": [
              "(0.7, 0.85)"
            ]
          },
          "metadata": {},
          "execution_count": 23
        },
        {
          "output_type": "display_data",
          "data": {
            "text/plain": [
              "<Figure size 1080x360 with 1 Axes>"
            ],
            "image/png": "[encoded data removed]"
          },
          "metadata": {
            "needs_background": "light"
          }
        }
      ]
    },
    {
      "cell_type": "markdown",
      "source": [
        "Perform another grid search (step = 10) with cross validation (10 splits). From 101 to 151."
      ],
      "metadata": {
        "id": "hJtBQzLHvM_2"
      }
    },
    {
      "cell_type": "code",
      "source": [
        "from sklearn.ensemble import AdaBoostClassifier\n",
        "from sklearn.model_selection import GridSearchCV\n",
        "\n",
        "ab = AdaBoostClassifier(random_state=SEED)\n",
        "\n",
        "# Perform grid search with cross-validation\n",
        "param_grid = {\"n_estimators\": range(101, 152, 10)}\n",
        "gscv = GridSearchCV(ab, param_grid, cv=10)  # 10 splits\n",
        "gscv.fit(X_train, y_train)\n",
        "\n",
        "print(\"Best params:\", gscv.best_params_)\n",
        "print(\"Best cross-validation score:\", gscv.best_score_)\n",
        "\n",
        "fig, ax = plt.subplots(figsize=(15, 5))\n",
        "ax.bar(param_grid[\"n_estimators\"], gscv.cv_results_[\"mean_test_score\"])\n",
        "ax.set_xticks(param_grid[\"n_estimators\"])\n",
        "ax.set_xlabel(\"n_estimators\")\n",
        "ax.set_ylabel(\"Cross-validation score\")\n",
        "ax.set_ylim((0.7, 0.85))"
      ],
      "metadata": {
        "colab": {
          "base_uri": "https://localhost:8080/",
          "height": 387
        },
        "id": "ebRPxxdXvXoU",
        "outputId": "26c56aa3-9ce9-4e1b-b956-d70eea0f53f4"
      },
      "execution_count": null,
      "outputs": [
        {
          "output_type": "stream",
          "name": "stdout",
          "text": [
            "Best params: {'n_estimators': 151}\n",
            "Best cross-validation score: 0.8197365660546023\n"
          ]
        },
        {
          "output_type": "execute_result",
          "data": {
            "text/plain": [
              "(0.7, 0.85)"
            ]
          },
          "metadata": {},
          "execution_count": 24
        },
        {
          "output_type": "display_data",
          "data": {
            "text/plain": [
              "<Figure size 1080x360 with 1 Axes>"
            ],
            "image/png": "[encoded data removed]"
          },
          "metadata": {
            "needs_background": "light"
          }
        }
      ]
    },
    {
      "cell_type": "markdown",
      "source": [
        "Perform another grid search (step = 10) with cross validation (10 splits). From 161 to 211."
      ],
      "metadata": {
        "id": "C1-ejvA1bptv"
      }
    },
    {
      "cell_type": "code",
      "source": [
        "from sklearn.ensemble import AdaBoostClassifier\n",
        "from sklearn.model_selection import GridSearchCV\n",
        "\n",
        "ab = AdaBoostClassifier(random_state=SEED)\n",
        "\n",
        "# Perform grid search with cross-validation\n",
        "param_grid = {\"n_estimators\": range(161, 212, 10)}\n",
        "gscv = GridSearchCV(ab, param_grid, cv=10)  # 10 splits\n",
        "gscv.fit(X_train, y_train)\n",
        "\n",
        "print(\"Best params:\", gscv.best_params_)\n",
        "print(\"Best cross-validation score:\", gscv.best_score_)\n",
        "\n",
        "fig, ax = plt.subplots(figsize=(15, 5))\n",
        "ax.bar(param_grid[\"n_estimators\"], gscv.cv_results_[\"mean_test_score\"])\n",
        "ax.set_xticks(param_grid[\"n_estimators\"])\n",
        "ax.set_xlabel(\"n_estimators\")\n",
        "ax.set_ylabel(\"Cross-validation score\")\n",
        "ax.set_ylim((0.7, 0.85))"
      ],
      "metadata": {
        "colab": {
          "base_uri": "https://localhost:8080/",
          "height": 387
        },
        "id": "Vw6i_Vbkbx1i",
        "outputId": "2cb278c6-82b2-4703-b375-51de1bc4d47e"
      },
      "execution_count": null,
      "outputs": [
        {
          "output_type": "stream",
          "name": "stdout",
          "text": [
            "Best params: {'n_estimators': 201}\n",
            "Best cross-validation score: 0.8195231188827774\n"
          ]
        },
        {
          "output_type": "execute_result",
          "data": {
            "text/plain": [
              "(0.7, 0.85)"
            ]
          },
          "metadata": {},
          "execution_count": 26
        },
        {
          "output_type": "display_data",
          "data": {
            "text/plain": [
              "<Figure size 1080x360 with 1 Axes>"
            ],
            "image/png": "[encoded data removed]"
          },
          "metadata": {
            "needs_background": "light"
          }
        }
      ]
    },
    {
      "cell_type": "markdown",
      "source": [
        "Fine grid search (step = 1) with cross validation (10 splits). From 145 to 155, since previous grid searches showed highest peak around 151."
      ],
      "metadata": {
        "id": "T4Vnfiyts_Ld"
      }
    },
    {
      "cell_type": "code",
      "source": [
        "from sklearn.ensemble import AdaBoostClassifier\n",
        "from sklearn.model_selection import GridSearchCV\n",
        "\n",
        "ab = AdaBoostClassifier(random_state=SEED)\n",
        "\n",
        "# Perform grid search with cross-validation\n",
        "param_grid = {\"n_estimators\": range(145, 156, 1)}\n",
        "gscv = GridSearchCV(ab, param_grid, cv=10)  # 10 splits\n",
        "gscv.fit(X_train, y_train)\n",
        "\n",
        "print(\"Best params:\", gscv.best_params_)\n",
        "print(\"Best cross-validation score:\", gscv.best_score_)\n",
        "\n",
        "fig, ax = plt.subplots(figsize=(15, 5))\n",
        "ax.bar(param_grid[\"n_estimators\"], gscv.cv_results_[\"mean_test_score\"])\n",
        "ax.set_xticks(param_grid[\"n_estimators\"])\n",
        "ax.set_xlabel(\"n_estimators\")\n",
        "ax.set_ylabel(\"Cross-validation score\")\n",
        "ax.set_ylim((0.7, 0.85))"
      ],
      "metadata": {
        "colab": {
          "base_uri": "https://localhost:8080/"
        },
        "id": "Dx0WXgF1tFEh",
        "outputId": "eb522400-dba4-479a-be62-562df37567a3"
      },
      "execution_count": null,
      "outputs": [
        {
          "output_type": "stream",
          "name": "stdout",
          "text": [
            "Best params: {'n_estimators': 151}\n",
            "Best cross-validation score: 0.8197365660546023\n"
          ]
        },
        {
          "output_type": "execute_result",
          "data": {
            "text/plain": [
              "(0.7, 0.85)"
            ]
          },
          "metadata": {},
          "execution_count": 27
        },
        {
          "output_type": "display_data",
          "data": {
            "text/plain": [
              "<Figure size 1080x360 with 1 Axes>"
            ],
            "image/png": "[encoded data removed]"
          },
          "metadata": {
            "needs_background": "light"
          }
        }
      ]
    },
    {
      "cell_type": "markdown",
      "source": [
        "AdaBoost using n_estimators = 151 as it's the best found."
      ],
      "metadata": {
        "id": "yP5Dm1PytKAz"
      }
    },
    {
      "cell_type": "code",
      "source": [
        "ab = AdaBoostClassifier(n_estimators=151, random_state=SEED)\n",
        "ab.fit(X_train, y_train)\n",
        "y_pred = ab.predict(X_test)\n",
        "\n",
        "print(f\"Accuracy: {round(metrics.accuracy_score(y_test, y_pred),2)}\")\n",
        "\n",
        "scores_pos = metrics.precision_recall_fscore_support(\n",
        "    y_test, y_pred, average=None, labels=[\"g\"]\n",
        ")\n",
        "precision = scores_pos[0][0]\n",
        "recall = scores_pos[1][0]\n",
        "f1score = scores_pos[2][0]\n",
        "specificity = metrics.precision_recall_fscore_support(\n",
        "    y_test, y_pred, average=None, labels=[\"h\"]\n",
        ")[1][\n",
        "    0\n",
        "]  # specificity is recall of negative class\n",
        "\n",
        "print(f\"Precision: {round(precision,2)}\")\n",
        "print(f\"recall: {round(recall,2)}\")\n",
        "print(f\"specificity: {round(specificity,2)}\")\n",
        "print(f\"f1-score: {round(f1score,2)}\")\n",
        "\n",
        "conf_matrix = metrics.confusion_matrix(\n",
        "    y_true=y_test, y_pred=y_pred, labels=[\"h\", \"g\"]\n",
        ")  # h is negative, g is positive\n",
        "\n",
        "fig, ax = plt.subplots(figsize=(5, 5))\n",
        "ax.matshow(conf_matrix, cmap=plt.cm.Oranges, alpha=0.3)\n",
        "for i in range(conf_matrix.shape[0]):\n",
        "    for j in range(conf_matrix.shape[1]):\n",
        "        ax.text(\n",
        "            x=j, y=i, s=conf_matrix[i, j], va=\"center\", ha=\"center\", size=\"xx-large\"\n",
        "        )\n",
        "plt.xlabel(\"Predictions\", fontsize=18)\n",
        "plt.ylabel(\"Actuals\", fontsize=18)\n",
        "plt.title(\"Confusion Matrix\", fontsize=18)\n",
        "plt.show()"
      ],
      "metadata": {
        "id": "nfS3FckjtbU4",
        "colab": {
          "base_uri": "https://localhost:8080/",
          "height": 445
        },
        "outputId": "e50b86d1-639b-4bd8-c54c-35e1188d22b7"
      },
      "execution_count": null,
      "outputs": [
        {
          "output_type": "stream",
          "name": "stdout",
          "text": [
            "Accuracy: 0.83\n",
            "Precision: 0.83\n",
            "recall: 0.83\n",
            "specificity: 0.83\n",
            "f1-score: 0.83\n"
          ]
        },
        {
          "output_type": "display_data",
          "data": {
            "text/plain": [
              "<Figure size 360x360 with 1 Axes>"
            ],
            "image/png": "[encoded data removed]"
          },
          "metadata": {
            "needs_background": "light"
          }
        }
      ]
    },
    {
      "cell_type": "markdown",
      "source": [
        "**K-Nearest Neighbours (K-NN).**"
      ],
      "metadata": {
        "id": "btegSdaekV0m"
      }
    },
    {
      "cell_type": "markdown",
      "source": [
        "Perform grid search (step = 10) with cross validation (10 splits)."
      ],
      "metadata": {
        "id": "RyNKspkonySc"
      }
    },
    {
      "cell_type": "code",
      "source": [
        "from sklearn.neighbors import KNeighborsClassifier\n",
        "from sklearn.model_selection import GridSearchCV\n",
        "\n",
        "knn = KNeighborsClassifier()\n",
        "\n",
        "# Perform grid search with cross-validation\n",
        "param_grid = {\"n_neighbors\": range(1, 392, 10)}\n",
        "gscv = GridSearchCV(knn, param_grid, cv=10)  # 10 splits\n",
        "gscv.fit(X_train, y_train)\n",
        "\n",
        "print(\"Best params:\", gscv.best_params_)\n",
        "print(\"Best cross-validation score:\", gscv.best_score_)\n",
        "\n",
        "fig, ax = plt.subplots(figsize=(15, 5))\n",
        "ax.bar(param_grid[\"n_neighbors\"], gscv.cv_results_[\"mean_test_score\"])\n",
        "ax.set_xticks(param_grid[\"n_neighbors\"])\n",
        "ax.set_xlabel(\"Number of Neighbors\")\n",
        "ax.set_ylabel(\"Cross-validation score\")\n",
        "ax.set_ylim((0.7, 0.85))"
      ],
      "metadata": {
        "id": "wy5608z2kd1R",
        "colab": {
          "base_uri": "https://localhost:8080/"
        },
        "outputId": "bb9b953c-9641-4f22-8dff-5f8bb3e4069b"
      },
      "execution_count": null,
      "outputs": [
        {
          "output_type": "stream",
          "name": "stdout",
          "text": [
            "Best params: {'n_neighbors': 21}\n",
            "Best cross-validation score: 0.7668733866039095\n"
          ]
        },
        {
          "output_type": "execute_result",
          "data": {
            "text/plain": [
              "(0.7, 0.85)"
            ]
          },
          "metadata": {},
          "execution_count": 29
        },
        {
          "output_type": "display_data",
          "data": {
            "text/plain": [
              "<Figure size 1080x360 with 1 Axes>"
            ],
            "image/png": "[encoded data removed]"
          },
          "metadata": {
            "needs_background": "light"
          }
        }
      ]
    },
    {
      "cell_type": "markdown",
      "source": [
        "Fine grid search (step = 1) with cross validation (10 splits). From 1 to 40, since previous grid search showed peak around 21."
      ],
      "metadata": {
        "id": "9bE9gfSJpCl7"
      }
    },
    {
      "cell_type": "code",
      "source": [
        "from sklearn.neighbors import KNeighborsClassifier\n",
        "from sklearn.model_selection import GridSearchCV\n",
        "\n",
        "knn = KNeighborsClassifier()\n",
        "\n",
        "# Perform grid search with cross-validation\n",
        "param_grid = {\"n_neighbors\": range(1, 41, 1)}\n",
        "gscv = GridSearchCV(knn, param_grid, cv=10)  # 10 splits\n",
        "gscv.fit(X_train, y_train)\n",
        "\n",
        "print(\"Best params:\", gscv.best_params_)\n",
        "print(\"Best cross-validation score:\", gscv.best_score_)\n",
        "\n",
        "fig, ax = plt.subplots(figsize=(15, 5))\n",
        "ax.bar(param_grid[\"n_neighbors\"], gscv.cv_results_[\"mean_test_score\"])\n",
        "ax.set_xticks(param_grid[\"n_neighbors\"])\n",
        "ax.set_xlabel(\"Number of Neighbors\")\n",
        "ax.set_ylabel(\"Cross-validation score\")\n",
        "ax.set_ylim((0.7, 0.85))"
      ],
      "metadata": {
        "colab": {
          "base_uri": "https://localhost:8080/",
          "height": 386
        },
        "id": "u5R3ys2cndZE",
        "outputId": "9eadd0d5-8ffb-46e3-cb92-f3d88bfb141d"
      },
      "execution_count": null,
      "outputs": [
        {
          "output_type": "stream",
          "name": "stdout",
          "text": [
            "Best params: {'n_neighbors': 13}\n",
            "Best cross-validation score: 0.7695402220215454\n"
          ]
        },
        {
          "output_type": "execute_result",
          "data": {
            "text/plain": [
              "(0.7, 0.85)"
            ]
          },
          "metadata": {},
          "execution_count": 30
        },
        {
          "output_type": "display_data",
          "data": {
            "text/plain": [
              "<Figure size 1080x360 with 1 Axes>"
            ],
            "image/png": "[encoded data removed]"
          },
          "metadata": {
            "needs_background": "light"
          }
        }
      ]
    },
    {
      "cell_type": "markdown",
      "source": [
        "KNN using k = 13 as it's the best found."
      ],
      "metadata": {
        "id": "0BYm7kGYpeWh"
      }
    },
    {
      "cell_type": "code",
      "source": [
        "knn = KNeighborsClassifier(n_neighbors=13)\n",
        "knn.fit(X_train, y_train)\n",
        "y_pred = knn.predict(X_test)\n",
        "\n",
        "print(f\"Accuracy: {round(metrics.accuracy_score(y_test, y_pred),2)}\")\n",
        "\n",
        "scores_pos = metrics.precision_recall_fscore_support(\n",
        "    y_test, y_pred, average=None, labels=[\"g\"]\n",
        ")\n",
        "precision = scores_pos[0][0]\n",
        "recall = scores_pos[1][0]\n",
        "f1score = scores_pos[2][0]\n",
        "specificity = metrics.precision_recall_fscore_support(\n",
        "    y_test, y_pred, average=None, labels=[\"h\"]\n",
        ")[1][\n",
        "    0\n",
        "]  # specificity is recall of negative class\n",
        "\n",
        "print(f\"Precision: {round(precision,2)}\")\n",
        "print(f\"recall: {round(recall,2)}\")\n",
        "print(f\"specificity: {round(specificity,2)}\")\n",
        "print(f\"f1-score: {round(f1score,2)}\")\n",
        "\n",
        "conf_matrix = metrics.confusion_matrix(\n",
        "    y_true=y_test, y_pred=y_pred, labels=[\"h\", \"g\"]\n",
        ")  # h is negative, g is positive\n",
        "\n",
        "fig, ax = plt.subplots(figsize=(5, 5))\n",
        "ax.matshow(conf_matrix, cmap=plt.cm.Oranges, alpha=0.3)\n",
        "for i in range(conf_matrix.shape[0]):\n",
        "    for j in range(conf_matrix.shape[1]):\n",
        "        ax.text(\n",
        "            x=j, y=i, s=conf_matrix[i, j], va=\"center\", ha=\"center\", size=\"xx-large\"\n",
        "        )\n",
        "plt.xlabel(\"Predictions\", fontsize=18)\n",
        "plt.ylabel(\"Actuals\", fontsize=18)\n",
        "plt.title(\"Confusion Matrix\", fontsize=18)\n",
        "plt.show()"
      ],
      "metadata": {
        "colab": {
          "base_uri": "https://localhost:8080/",
          "height": 445
        },
        "id": "XJ-04l-JpqDB",
        "outputId": "7957e8e9-872d-4086-808c-3b2838d5d495"
      },
      "execution_count": null,
      "outputs": [
        {
          "output_type": "stream",
          "name": "stdout",
          "text": [
            "Accuracy: 0.77\n",
            "Precision: 0.73\n",
            "recall: 0.86\n",
            "specificity: 0.68\n",
            "f1-score: 0.79\n"
          ]
        },
        {
          "output_type": "display_data",
          "data": {
            "text/plain": [
              "<Figure size 360x360 with 1 Axes>"
            ],
            "image/png": "[encoded data removed]"
          },
          "metadata": {
            "needs_background": "light"
          }
        }
      ]
    },
    {
      "cell_type": "markdown",
      "source": [
        "**K-Nearest Neighbours (K-NN).** *(using scaled features)*"
      ],
      "metadata": {
        "id": "cv2Va-1oFVjy"
      }
    },
    {
      "cell_type": "markdown",
      "source": [
        "Perform grid search (step = 10) with cross validation (10 splits)."
      ],
      "metadata": {
        "id": "wEg8blmwE5Rq"
      }
    },
    {
      "cell_type": "code",
      "source": [
        "from sklearn.neighbors import KNeighborsClassifier\n",
        "from sklearn.model_selection import GridSearchCV\n",
        "\n",
        "knns = KNeighborsClassifier()\n",
        "\n",
        "# Perform grid search with cross-validation\n",
        "param_grid = {\"n_neighbors\": range(1, 392, 10)}\n",
        "gscv = GridSearchCV(knns, param_grid, cv=10)  # 10 splits\n",
        "gscv.fit(Xs_train, y_train)\n",
        "\n",
        "print(\"Best params:\", gscv.best_params_)\n",
        "print(\"Best cross-validation score:\", gscv.best_score_)\n",
        "\n",
        "fig, ax = plt.subplots(figsize=(15, 5))\n",
        "ax.bar(param_grid[\"n_neighbors\"], gscv.cv_results_[\"mean_test_score\"])\n",
        "ax.set_xticks(param_grid[\"n_neighbors\"])\n",
        "ax.set_xlabel(\"Number of Neighbors\")\n",
        "ax.set_ylabel(\"Cross-validation score\")\n",
        "ax.set_ylim((0.7, 0.85))"
      ],
      "metadata": {
        "colab": {
          "base_uri": "https://localhost:8080/",
          "height": 386
        },
        "id": "Gk-RTUcGEOe1",
        "outputId": "6d621f58-a46f-4d45-aa4c-9f83b5571a20"
      },
      "execution_count": null,
      "outputs": [
        {
          "output_type": "stream",
          "name": "stdout",
          "text": [
            "Best params: {'n_neighbors': 11}\n",
            "Best cross-validation score: 0.8098063696649609\n"
          ]
        },
        {
          "output_type": "execute_result",
          "data": {
            "text/plain": [
              "(0.7, 0.85)"
            ]
          },
          "metadata": {},
          "execution_count": 20
        },
        {
          "output_type": "display_data",
          "data": {
            "text/plain": [
              "<Figure size 1080x360 with 1 Axes>"
            ],
            "image/png": "[encoded data removed]"
          },
          "metadata": {
            "needs_background": "light"
          }
        }
      ]
    },
    {
      "cell_type": "markdown",
      "source": [
        "Fine grid search (step = 1) with cross validation (10 splits). From 1 to 50, since previous grid search showed peak around 11."
      ],
      "metadata": {
        "id": "_JE74cfkE8bt"
      }
    },
    {
      "cell_type": "code",
      "source": [
        "from sklearn.neighbors import KNeighborsClassifier\n",
        "from sklearn.model_selection import GridSearchCV\n",
        "\n",
        "knns = KNeighborsClassifier()\n",
        "\n",
        "# Perform grid search with cross-validation\n",
        "param_grid = {\"n_neighbors\": range(1, 51, 1)}\n",
        "gscv = GridSearchCV(knns, param_grid, cv=10)  # 10 splits\n",
        "gscv.fit(Xs_train, y_train)\n",
        "\n",
        "print(\"Best params:\", gscv.best_params_)\n",
        "print(\"Best cross-validation score:\", gscv.best_score_)\n",
        "\n",
        "fig, ax = plt.subplots(figsize=(15, 5))\n",
        "ax.bar(param_grid[\"n_neighbors\"], gscv.cv_results_[\"mean_test_score\"])\n",
        "ax.set_xticks(param_grid[\"n_neighbors\"])\n",
        "ax.set_xlabel(\"Number of Neighbors\")\n",
        "ax.set_ylabel(\"Cross-validation score\")\n",
        "ax.set_ylim((0.7, 0.85))"
      ],
      "metadata": {
        "colab": {
          "base_uri": "https://localhost:8080/",
          "height": 386
        },
        "id": "Wz4oWaWHFEPT",
        "outputId": "514f98d3-5e24-4a59-9c02-07032c387d32"
      },
      "execution_count": null,
      "outputs": [
        {
          "output_type": "stream",
          "name": "stdout",
          "text": [
            "Best params: {'n_neighbors': 15}\n",
            "Best cross-validation score: 0.8107669959590984\n"
          ]
        },
        {
          "output_type": "execute_result",
          "data": {
            "text/plain": [
              "(0.7, 0.85)"
            ]
          },
          "metadata": {},
          "execution_count": 21
        },
        {
          "output_type": "display_data",
          "data": {
            "text/plain": [
              "<Figure size 1080x360 with 1 Axes>"
            ],
            "image/png": "[encoded data removed]"
          },
          "metadata": {
            "needs_background": "light"
          }
        }
      ]
    },
    {
      "cell_type": "markdown",
      "source": [
        "KNN using k = 15 as it's the best found."
      ],
      "metadata": {
        "id": "udWypW0PFI6M"
      }
    },
    {
      "cell_type": "code",
      "source": [
        "knns = KNeighborsClassifier(n_neighbors=15)\n",
        "knns.fit(Xs_train, y_train)\n",
        "y_pred = knns.predict(Xs_test)\n",
        "\n",
        "print(f\"Accuracy: {round(metrics.accuracy_score(y_test, y_pred),2)}\")\n",
        "\n",
        "scores_pos = metrics.precision_recall_fscore_support(\n",
        "    y_test, y_pred, average=None, labels=[\"g\"]\n",
        ")\n",
        "precision = scores_pos[0][0]\n",
        "recall = scores_pos[1][0]\n",
        "f1score = scores_pos[2][0]\n",
        "specificity = metrics.precision_recall_fscore_support(\n",
        "    y_test, y_pred, average=None, labels=[\"h\"]\n",
        ")[1][\n",
        "    0\n",
        "]  # specificity is recall of negative class\n",
        "\n",
        "print(f\"Precision: {round(precision,2)}\")\n",
        "print(f\"recall: {round(recall,2)}\")\n",
        "print(f\"specificity: {round(specificity,2)}\")\n",
        "print(f\"f1-score: {round(f1score,2)}\")\n",
        "\n",
        "conf_matrix = metrics.confusion_matrix(\n",
        "    y_true=y_test, y_pred=y_pred, labels=[\"h\", \"g\"]\n",
        ")  # h is negative, g is positive\n",
        "\n",
        "fig, ax = plt.subplots(figsize=(5, 5))\n",
        "ax.matshow(conf_matrix, cmap=plt.cm.Oranges, alpha=0.3)\n",
        "for i in range(conf_matrix.shape[0]):\n",
        "    for j in range(conf_matrix.shape[1]):\n",
        "        ax.text(\n",
        "            x=j, y=i, s=conf_matrix[i, j], va=\"center\", ha=\"center\", size=\"xx-large\"\n",
        "        )\n",
        "plt.xlabel(\"Predictions\", fontsize=18)\n",
        "plt.ylabel(\"Actuals\", fontsize=18)\n",
        "plt.title(\"Confusion Matrix\", fontsize=18)\n",
        "plt.show()\n"
      ],
      "metadata": {
        "colab": {
          "base_uri": "https://localhost:8080/",
          "height": 445
        },
        "id": "15j1WPn6FJKW",
        "outputId": "e07decc5-aff9-4c35-85f9-aab9d04b4135"
      },
      "execution_count": null,
      "outputs": [
        {
          "output_type": "stream",
          "name": "stdout",
          "text": [
            "Accuracy: 0.81\n",
            "Precision: 0.78\n",
            "recall: 0.88\n",
            "specificity: 0.75\n",
            "f1-score: 0.82\n"
          ]
        },
        {
          "output_type": "display_data",
          "data": {
            "text/plain": [
              "<Figure size 360x360 with 1 Axes>"
            ],
            "image/png": "[encoded data removed]"
          },
          "metadata": {
            "needs_background": "light"
          }
        }
      ]
    },
    {
      "cell_type": "markdown",
      "source": [
        "We can see KNN's accuracy improved from 77% to 81% after using scaled features, meaning some features were contributing more to the distance calculation than they should have, so scaling all the features from 0 to 1 reduced their contribution and gave us an overall better score. We might even be able to get a higher score if we know some features should contribute more and increase their contribution by scaling them to a higher value. "
      ],
      "metadata": {
        "id": "bCbVqPRatjlD"
      }
    },
    {
      "cell_type": "markdown",
      "source": [
        "**Random Forests.**"
      ],
      "metadata": {
        "id": "xcSAt2XC5UQ1"
      }
    },
    {
      "cell_type": "markdown",
      "source": [
        "Perform grid search (step = 10) with cross validation (10 splits)."
      ],
      "metadata": {
        "id": "Qllau8a55XrA"
      }
    },
    {
      "cell_type": "code",
      "source": [
        "from sklearn.ensemble import RandomForestClassifier\n",
        "from sklearn.model_selection import GridSearchCV\n",
        "\n",
        "rf = RandomForestClassifier(random_state=SEED)\n",
        "\n",
        "# Perform grid search with cross-validation\n",
        "param_grid = {\"n_estimators\": range(1, 302, 20)}\n",
        "gscv = GridSearchCV(rf, param_grid, cv=10)  # 10 splits\n",
        "gscv.fit(X_train, y_train)\n",
        "\n",
        "print(\"Best params:\", gscv.best_params_)\n",
        "print(\"Best cross-validation score:\", gscv.best_score_)\n",
        "\n",
        "fig, ax = plt.subplots(figsize=(15, 5))\n",
        "ax.bar(param_grid[\"n_estimators\"], gscv.cv_results_[\"mean_test_score\"])\n",
        "ax.set_xticks(param_grid[\"n_estimators\"])\n",
        "ax.set_xlabel(\"n_estimators\")\n",
        "ax.set_ylabel(\"Cross-validation score\")\n",
        "ax.set_ylim((0.75, 0.9))"
      ],
      "metadata": {
        "colab": {
          "base_uri": "https://localhost:8080/",
          "height": 391
        },
        "id": "abyetBUk5XLP",
        "outputId": "f5b4226b-b1ec-4d5c-db29-82e576fe0d57"
      },
      "execution_count": null,
      "outputs": [
        {
          "output_type": "stream",
          "name": "stdout",
          "text": [
            "Best params: {'n_estimators': 301}\n",
            "Best cross-validation score: 0.8583942205073475\n"
          ]
        },
        {
          "output_type": "execute_result",
          "data": {
            "text/plain": [
              "(0.75, 0.9)"
            ]
          },
          "metadata": {},
          "execution_count": 38
        },
        {
          "output_type": "display_data",
          "data": {
            "text/plain": [
              "<Figure size 1080x360 with 1 Axes>"
            ],
            "image/png": "[encoded data removed]"
          },
          "metadata": {
            "needs_background": "light"
          }
        }
      ]
    },
    {
      "cell_type": "code",
      "source": [
        "print(gscv.cv_results_[\"mean_test_score\"])"
      ],
      "metadata": {
        "colab": {
          "base_uri": "https://localhost:8080/"
        },
        "id": "yUN86-aeSNIs",
        "outputId": "e872bb73-ffa9-4e65-9f70-4bf37afcfe7c"
      },
      "execution_count": null,
      "outputs": [
        {
          "output_type": "stream",
          "name": "stdout",
          "text": [
            "[0.76911652 0.84899741 0.85508397 0.85690077 0.85668653 0.85497724\n",
            " 0.8564724  0.85743314 0.85764681 0.85657832 0.8578598  0.85668516\n",
            " 0.85689861 0.85732619 0.85786026 0.85839422]\n"
          ]
        }
      ]
    },
    {
      "cell_type": "markdown",
      "source": [
        "Fine grid search (step = 1) with cross validation (10 splits). From 155 to 165, since previous grid search showed 161 had one of the highest scores at a reasonable complexity."
      ],
      "metadata": {
        "id": "5tMNc9VR7tAu"
      }
    },
    {
      "cell_type": "code",
      "source": [
        "from sklearn.ensemble import RandomForestClassifier\n",
        "from sklearn.model_selection import GridSearchCV\n",
        "\n",
        "rf = RandomForestClassifier(random_state=SEED)\n",
        "\n",
        "# Perform grid search with cross-validation\n",
        "param_grid = {\"n_estimators\": range(155, 166, 1)}\n",
        "gscv = GridSearchCV(rf, param_grid, cv=10)  # 10 splits\n",
        "gscv.fit(X_train, y_train)\n",
        "\n",
        "print(\"Best params:\", gscv.best_params_)\n",
        "print(\"Best cross-validation score:\", gscv.best_score_)\n",
        "\n",
        "fig, ax = plt.subplots(figsize=(15, 5))\n",
        "ax.bar(param_grid[\"n_estimators\"], gscv.cv_results_[\"mean_test_score\"])\n",
        "ax.set_xticks(param_grid[\"n_estimators\"])\n",
        "ax.set_xlabel(\"n_estimators\")\n",
        "ax.set_ylabel(\"Cross-validation score\")\n",
        "ax.set_ylim((0.75, 0.9))"
      ],
      "metadata": {
        "colab": {
          "base_uri": "https://localhost:8080/",
          "height": 391
        },
        "id": "ajv5nafV7tVC",
        "outputId": "94129011-2981-41e6-a605-23665ca82f74"
      },
      "execution_count": null,
      "outputs": [
        {
          "output_type": "stream",
          "name": "stdout",
          "text": [
            "Best params: {'n_estimators': 162}\n",
            "Best cross-validation score: 0.8581807733355225\n"
          ]
        },
        {
          "output_type": "execute_result",
          "data": {
            "text/plain": [
              "(0.75, 0.9)"
            ]
          },
          "metadata": {},
          "execution_count": 40
        },
        {
          "output_type": "display_data",
          "data": {
            "text/plain": [
              "<Figure size 1080x360 with 1 Axes>"
            ],
            "image/png": "[encoded data removed]"
          },
          "metadata": {
            "needs_background": "light"
          }
        }
      ]
    },
    {
      "cell_type": "markdown",
      "source": [
        "Random Forests using n_estimators = 162 as it's the best found."
      ],
      "metadata": {
        "id": "uZPkUHsw7ych"
      }
    },
    {
      "cell_type": "code",
      "source": [
        "from sklearn.ensemble import RandomForestClassifier\n",
        "from sklearn.model_selection import GridSearchCV\n",
        "\n",
        "rf = RandomForestClassifier(n_estimators=162, random_state=SEED)\n",
        "rf.fit(X_train, y_train)\n",
        "\n",
        "y_pred = rf.predict(X_test)\n",
        "\n",
        "print(f\"Accuracy: {round(metrics.accuracy_score(y_test, y_pred),2)}\")\n",
        "\n",
        "scores_pos = metrics.precision_recall_fscore_support(\n",
        "    y_test, y_pred, average=None, labels=[\"g\"]\n",
        ")\n",
        "precision = scores_pos[0][0]\n",
        "recall = scores_pos[1][0]\n",
        "f1score = scores_pos[2][0]\n",
        "specificity = metrics.precision_recall_fscore_support(\n",
        "    y_test, y_pred, average=None, labels=[\"h\"]\n",
        ")[1][\n",
        "    0\n",
        "]  # specificity is recall of negative class\n",
        "\n",
        "print(f\"Precision: {round(precision,2)}\")\n",
        "print(f\"recall: {round(recall,2)}\")\n",
        "print(f\"specificity: {round(specificity,2)}\")\n",
        "print(f\"f1-score: {round(f1score,2)}\")\n",
        "\n",
        "conf_matrix = metrics.confusion_matrix(\n",
        "    y_true=y_test, y_pred=y_pred, labels=[\"h\", \"g\"]\n",
        ")  # h is negative, g is positive\n",
        "\n",
        "fig, ax = plt.subplots(figsize=(5, 5))\n",
        "ax.matshow(conf_matrix, cmap=plt.cm.Oranges, alpha=0.3)\n",
        "for i in range(conf_matrix.shape[0]):\n",
        "    for j in range(conf_matrix.shape[1]):\n",
        "        ax.text(\n",
        "            x=j, y=i, s=conf_matrix[i, j], va=\"center\", ha=\"center\", size=\"xx-large\"\n",
        "        )\n",
        "plt.xlabel(\"Predictions\", fontsize=18)\n",
        "plt.ylabel(\"Actuals\", fontsize=18)\n",
        "plt.title(\"Confusion Matrix\", fontsize=18)\n",
        "plt.show()"
      ],
      "metadata": {
        "colab": {
          "base_uri": "https://localhost:8080/",
          "height": 445
        },
        "id": "4HK5yLja7t0p",
        "outputId": "04cec931-4025-4012-e302-d17ba9ee147d"
      },
      "execution_count": null,
      "outputs": [
        {
          "output_type": "stream",
          "name": "stdout",
          "text": [
            "Accuracy: 0.86\n",
            "Precision: 0.84\n",
            "recall: 0.89\n",
            "specificity: 0.83\n",
            "f1-score: 0.87\n"
          ]
        },
        {
          "output_type": "display_data",
          "data": {
            "text/plain": [
              "<Figure size 360x360 with 1 Axes>"
            ],
            "image/png": "[encoded data removed]"
          },
          "metadata": {
            "needs_background": "light"
          }
        }
      ]
    },
    {
      "cell_type": "markdown",
      "source": [
        "At 0.86 accuracy it's the most accurate model. However, neural network beats it at precision and specificity."
      ],
      "metadata": {
        "id": "Fy2AUU_A5HZ3"
      }
    },
    {
      "cell_type": "markdown",
      "source": [
        "**Naive Bayes.** *(Gaussian)*"
      ],
      "metadata": {
        "id": "UPciT_bS3bO6"
      }
    },
    {
      "cell_type": "code",
      "source": [
        "from sklearn.naive_bayes import GaussianNB\n",
        "\n",
        "gnb = GaussianNB()\n",
        "gnb = gnb.fit(X_train, y_train)\n",
        "y_pred = gnb.predict(X_test)\n",
        "\n",
        "print(f\"Accuracy: {round(metrics.accuracy_score(y_test, y_pred),2)}\")\n",
        "\n",
        "scores_pos = metrics.precision_recall_fscore_support(\n",
        "    y_test, y_pred, average=None, labels=[\"g\"]\n",
        ")\n",
        "precision = scores_pos[0][0]\n",
        "recall = scores_pos[1][0]\n",
        "f1score = scores_pos[2][0]\n",
        "specificity = metrics.precision_recall_fscore_support(\n",
        "    y_test, y_pred, average=None, labels=[\"h\"]\n",
        ")[1][\n",
        "    0\n",
        "]  # specificity is recall of negative class\n",
        "\n",
        "print(f\"Precision: {round(precision,2)}\")\n",
        "print(f\"recall: {round(recall,2)}\")\n",
        "print(f\"specificity: {round(specificity,2)}\")\n",
        "print(f\"f1-score: {round(f1score,2)}\")\n",
        "\n",
        "conf_matrix = metrics.confusion_matrix(y_true=y_test, y_pred=y_pred, labels = ['h','g']) # h is negative, g is positive\n",
        "\n",
        "fig, ax = plt.subplots(figsize=(5, 5))\n",
        "ax.matshow(conf_matrix, cmap=plt.cm.Oranges, alpha=0.3)\n",
        "for i in range(conf_matrix.shape[0]):\n",
        "    for j in range(conf_matrix.shape[1]):\n",
        "        ax.text(x=j, y=i,s=conf_matrix[i, j], va='center', ha='center', size='xx-large')\n",
        " \n",
        "plt.xlabel('Predictions', fontsize=18)\n",
        "plt.ylabel('Actuals', fontsize=18)\n",
        "plt.title('Confusion Matrix', fontsize=18)\n",
        "plt.show()"
      ],
      "metadata": {
        "colab": {
          "base_uri": "https://localhost:8080/",
          "height": 445
        },
        "id": "MK0HGvSA3eus",
        "outputId": "7070ae85-625d-47b3-9080-b70a1f4ec672"
      },
      "execution_count": null,
      "outputs": [
        {
          "output_type": "stream",
          "name": "stdout",
          "text": [
            "Accuracy: 0.64\n",
            "Precision: 0.59\n",
            "recall: 0.89\n",
            "specificity: 0.38\n",
            "f1-score: 0.71\n"
          ]
        },
        {
          "output_type": "display_data",
          "data": {
            "text/plain": [
              "<Figure size 360x360 with 1 Axes>"
            ],
            "image/png": "[encoded data removed]"
          },
          "metadata": {
            "needs_background": "light"
          }
        }
      ]
    },
    {
      "cell_type": "markdown",
      "source": [
        "Naive Bayes has relatively low scores, likely due to the fact that we have features that are calculated from other features, meaning they are dependant; this goes against the naive bayes assumption of the features being completely independent, which results in a worse model."
      ],
      "metadata": {
        "id": "cxkQ06wTtJe2"
      }
    },
    {
      "cell_type": "code",
      "source": [
        "import numpy as np\n",
        "import pandas as pd\n",
        "y_train.replace('g',0 ,inplace=True)\n",
        "y_train.replace('h',1 ,inplace=True)\n",
        "tensor_y_train = torch.tensor(y_train.values.astype(np.float32))\n",
        "tensor_X_train = torch.tensor(Xs_train.values.astype(np.float32))\n",
        "y_test.replace('g',0 ,inplace=True)\n",
        "y_test.replace('h',1 ,inplace=True)\n",
        "tensor_y_test = torch.tensor(y_test.values.astype(np.float32))\n",
        "tensor_X_test = torch.tensor(Xs_test.values.astype(np.float32))"
      ],
      "metadata": {
        "id": "IM0uZaZtieXs"
      },
      "execution_count": null,
      "outputs": []
    },
    {
      "cell_type": "code",
      "source": [
        "from torch.utils.data import Dataset,TensorDataset\n",
        "dataset_train = TensorDataset( tensor_X_train, tensor_y_train )  \n",
        "dataset_test = TensorDataset( tensor_X_test , tensor_y_test )"
      ],
      "metadata": {
        "id": "WUlgV367PnWf"
      },
      "execution_count": null,
      "outputs": []
    },
    {
      "cell_type": "markdown",
      "source": [
        "neural network datamodel"
      ],
      "metadata": {
        "id": "khy07CN2N_RM"
      }
    },
    {
      "cell_type": "code",
      "source": [
        "from torch import nn\n",
        "\n",
        "device = \"cuda\" if torch.cuda.is_available() else \"cpu\"\n",
        "print(f\"Using {device} device\")\n",
        "class Network(nn.Module):\n",
        "    def __init__(self, features_count, layer1, layer2, classes_count):\n",
        "        super().__init__()\n",
        "        self.flatten = nn.Flatten()\n",
        "        \n",
        "        self.linear_relu_stack = nn.Sequential(\n",
        "            nn.Linear(features_count, layer1),\n",
        "            nn.ReLU(),\n",
        "            nn.Linear(layer1, layer2),\n",
        "            nn.ReLU(),\n",
        "            nn.Linear(layer2, classes_count)\n",
        "        )\n",
        "    def forward(self, x):\n",
        "        x = self.flatten(x)\n",
        "        x = self.linear_relu_stack(x)\n",
        "        x = torch.sigmoid(x)\n",
        "        return x\n"
      ],
      "metadata": {
        "id": "zQJ832sC8lHy",
        "colab": {
          "base_uri": "https://localhost:8080/"
        },
        "outputId": "19488c15-6503-4de9-8281-b2a46d54e464"
      },
      "execution_count": null,
      "outputs": [
        {
          "output_type": "stream",
          "name": "stdout",
          "text": [
            "Using cuda device\n"
          ]
        }
      ]
    },
    {
      "cell_type": "code",
      "source": [
        "loss_fn = nn.BCELoss()"
      ],
      "metadata": {
        "id": "qjl3I1GlOKQx"
      },
      "execution_count": null,
      "outputs": []
    },
    {
      "cell_type": "code",
      "source": [
        "def train(dataloader, model, loss_fn):\n",
        "    optimizer = torch.optim.Adam(model.parameters(), lr=1e-3)\n",
        "    size = len(dataloader.dataset)\n",
        "    model.train()\n",
        "    correct = 0\n",
        "    for batch, (X, y) in enumerate(dataloader):\n",
        "        X, y = X.to(device), y.to(device)\n",
        "        # Compute prediction error\n",
        "        pred = model(X)\n",
        "        pred = torch.flatten(pred)\n",
        "        loss = loss_fn(pred, y)\n",
        "\n",
        "        # Backpropagation\n",
        "        optimizer.zero_grad()\n",
        "        loss.backward()\n",
        "        optimizer.step()\n",
        "\n",
        "        pred = torch.round(pred.data)\n",
        "        correct += (pred == y).sum().item()\n",
        "    correct /= size\n",
        "    return 100*correct\n",
        "        #if batch % 20 == 0:\n",
        "        #    loss, current = loss.item(), batch * len(X)\n",
        "        #    print(f\"loss: {loss:>7f}  [{current:>5d}/{size:>5d}]\")"
      ],
      "metadata": {
        "id": "PsXhaV-FbLFH"
      },
      "execution_count": null,
      "outputs": []
    },
    {
      "cell_type": "code",
      "source": [
        "\n",
        "def test(dataloader, model, loss_fn):\n",
        "    size = len(dataloader.dataset)\n",
        "    num_batches = len(dataloader)\n",
        "    model.eval()\n",
        "    test_loss, correct = 0, 0\n",
        "    with torch.no_grad():\n",
        "        for X, y in dataloader:\n",
        "            X, y = X.to(device), y.to(device)\n",
        "            pred = model(X)\n",
        "            pred = torch.flatten(pred)\n",
        "            test_loss += loss_fn(pred, y).item()\n",
        "            pred = torch.round(pred.data)\n",
        "            correct += (pred == y).sum().item()\n",
        "    test_loss /= num_batches\n",
        "    correct /= size\n",
        "    #print(f\"Test Error: \\n Accuracy: {(100*correct):>0.1f}%, Avg loss: {test_loss:>8f} \\n\")\n",
        "    return 100*correct, test_loss"
      ],
      "metadata": {
        "id": "R-M37GINbtxA"
      },
      "execution_count": null,
      "outputs": []
    },
    {
      "cell_type": "code",
      "source": [
        "from torch.utils.data import DataLoader\n",
        "\n",
        "batch_s = 128\n",
        "\n",
        "torch.manual_seed(SEED)\n",
        "\n",
        "def seed_worker(worker_id):\n",
        "    np.random.seed(SEED)\n",
        "    random.seed(SEED)\n",
        "\n",
        "print(f\"Batch size: {batch_s}\")"
      ],
      "metadata": {
        "colab": {
          "base_uri": "https://localhost:8080/"
        },
        "id": "lU13lX2ngLaJ",
        "outputId": "d82c4023-4dfd-446b-e08a-3199d44b7ab8"
      },
      "execution_count": null,
      "outputs": [
        {
          "output_type": "stream",
          "name": "stdout",
          "text": [
            "Batch size: 128\n"
          ]
        }
      ]
    },
    {
      "cell_type": "code",
      "source": [
        "from sklearn.model_selection import StratifiedKFold\n",
        "\n",
        "k_folds = 5\n",
        "epochs = 100\n",
        "\n",
        "layer1_start = 10\n",
        "layer1_end = 101\n",
        "layer1_step = 10\n",
        "\n",
        "layer2_start = 10\n",
        "layer2_end = 101\n",
        "layer2_step = 10\n",
        "\n",
        "\n",
        "layer1_list = range(layer1_start, layer1_end, layer1_step)\n",
        "layer2_list = range(layer2_start, layer2_end, layer2_step)\n",
        "\n",
        "results = np.empty((len(layer1_list), len(layer2_list)))\n",
        "results[:] = np.nan\n",
        "\n",
        "outer_i = 0\n",
        "for layer1 in layer1_list:\n",
        "    valid_layer2_list = []\n",
        "    for i in range(len(layer2_list)):\n",
        "        if abs(layer2_list[i] - layer1) <= 30:\n",
        "            valid_layer2_list.append((layer2_list[i], i))\n",
        "    for layer2 in valid_layer2_list:\n",
        "        inner_i = layer2[1]\n",
        "        layer2 = layer2[0]\n",
        "\n",
        "        np.random.seed(SEED)\n",
        "        random.seed(SEED)\n",
        "        torch.manual_seed(SEED)\n",
        "        torch.cuda.manual_seed(SEED)\n",
        "        torch.cuda.manual_seed_all(SEED)\n",
        "\n",
        "        kfold = StratifiedKFold(n_splits=k_folds, shuffle=True, random_state=SEED)\n",
        "        avg_acc = 0\n",
        "        avg_loss = 0\n",
        "\n",
        "        for fold, (train_ids, test_ids) in enumerate(kfold.split(Xs_train, y_train)):\n",
        "            train_Xs_fold = Xs_train.iloc[train_ids]\n",
        "            test_Xs_fold = Xs_train.iloc[test_ids]\n",
        "            train_y_fold = y_train.iloc[train_ids]\n",
        "            test_y_fold = y_train.iloc[test_ids]\n",
        "\n",
        "            tensor_Xs_fold_train = torch.tensor(train_Xs_fold.values.astype(np.float32))\n",
        "            tensor_Xs_fold_test = torch.tensor(test_Xs_fold.values.astype(np.float32))\n",
        "            tensor_y_fold_train = torch.tensor(train_y_fold.values.astype(np.float32))\n",
        "            tensor_y_fold_test = torch.tensor(test_y_fold.values.astype(np.float32))\n",
        "\n",
        "            dataset_train_fold = TensorDataset(\n",
        "                tensor_Xs_fold_train, tensor_y_fold_train\n",
        "            )\n",
        "            dataset_test_fold = TensorDataset(tensor_Xs_fold_test, tensor_y_fold_test)\n",
        "\n",
        "            train_dataloader_kfold = DataLoader(\n",
        "                dataset_train_fold,\n",
        "                batch_size=batch_s,\n",
        "                shuffle=True,\n",
        "                worker_init_fn=seed_worker,\n",
        "                num_workers=0,\n",
        "            )\n",
        "            test_dataloader_kfold = DataLoader(\n",
        "                dataset_test_fold,\n",
        "                batch_size=batch_s,\n",
        "                shuffle=True,\n",
        "                worker_init_fn=seed_worker,\n",
        "                num_workers=0,\n",
        "            )\n",
        "\n",
        "            model = Network(10, layer1, layer2, 1).to(device)\n",
        "            max_epoch_acc = 0\n",
        "            max_acc_diff = 0.1\n",
        "\n",
        "            for t in range(epochs):\n",
        "                train_acc = train(train_dataloader_kfold, model, loss_fn)\n",
        "                test_result = test(test_dataloader_kfold, model, loss_fn)\n",
        "\n",
        "                if train_acc - test_result[0] >= (train_acc * max_acc_diff):\n",
        "                    break\n",
        "                if test_result[0] > max_epoch_acc:\n",
        "                    max_epoch_acc = test_result[0]\n",
        "            avg_acc += max_epoch_acc / k_folds\n",
        "        print((layer1, layer2), avg_acc)\n",
        "        results[outer_i][inner_i] = avg_acc\n",
        "    outer_i += 1"
      ],
      "metadata": {
        "colab": {
          "base_uri": "https://localhost:8080/"
        },
        "id": "QckFEeEFGyYX",
        "outputId": "af0ab67a-de5e-4e7f-f0b1-6994f23e1b46"
      },
      "execution_count": null,
      "outputs": [
        {
          "output_type": "stream",
          "name": "stdout",
          "text": [
            "(10, 10) 75.83363565010656\n",
            "(10, 20) 82.34737566224486\n",
            "(10, 30) 82.52883417525703\n",
            "(10, 40) 82.65699937483171\n",
            "(20, 10) 82.6463726550486\n",
            "(20, 20) 82.97744945035389\n",
            "(20, 30) 82.96667442422914\n",
            "(20, 40) 82.96665731195897\n",
            "(20, 50) 83.32985954248635\n",
            "(30, 10) 82.97747797080419\n",
            "(30, 20) 83.40448615275096\n",
            "(30, 30) 83.43670285341402\n",
            "(30, 40) 83.66087359280098\n",
            "(30, 50) 83.62887935165031\n",
            "(30, 60) 83.95993333059538\n",
            "(40, 10) 83.18032682154411\n",
            "(40, 20) 83.13754044199852\n",
            "(40, 30) 83.53269698504614\n",
            "(40, 40) 83.68224681825856\n",
            "(40, 50) 84.12016692449154\n",
            "(40, 60) 83.87450887784577\n",
            "(40, 70) 84.12005284269031\n",
            "(50, 20) 83.94922675355136\n",
            "(50, 30) 83.75693617351385\n",
            "(50, 40) 84.02398455788739\n",
            "(50, 50) 84.17352868700974\n",
            "(50, 60) 84.17349446246936\n",
            "(50, 70) 84.29101012590067\n",
            "(50, 80) 84.39775646729731\n",
            "(60, 30) 83.87446894921536\n",
            "(60, 40) 84.25895313975934\n",
            "(60, 50) 84.40846874843137\n",
            "(60, 60) 84.13077653200452\n",
            "(60, 70) 84.44045728549199\n",
            "(60, 80) 84.25896454793946\n",
            "(60, 90) 84.29093026863981\n",
            "(70, 40) 84.01331220538374\n",
            "(70, 50) 84.18416111088295\n",
            "(70, 60) 84.19490761655737\n",
            "(70, 70) 84.39780780410786\n",
            "(70, 80) 84.45115815844593\n",
            "(70, 90) 84.66476492304041\n",
            "(70, 100) 84.44048580594227\n",
            "(80, 50) 84.36572800160629\n",
            "(80, 60) 84.33370524000529\n",
            "(80, 70) 84.46188755185017\n",
            "(80, 80) 84.6433802894027\n",
            "(80, 90) 84.64338599349279\n",
            "(80, 100) 84.64341451394309\n",
            "(90, 60) 84.37644598683039\n",
            "(90, 70) 84.70749996577545\n",
            "(90, 80) 84.65410968280695\n",
            "(90, 90) 84.61137464007192\n",
            "(90, 100) 84.77154548897742\n",
            "(100, 70) 84.59004134324475\n",
            "(100, 80) 84.65403552963618\n",
            "(100, 90) 84.57932335802064\n",
            "(100, 100) 84.78222354557111\n"
          ]
        }
      ]
    },
    {
      "cell_type": "code",
      "source": [
        "fig, ax = plt.subplots(figsize=(10,10))\n",
        "im = ax.imshow(results)\n",
        "# Show all ticks and label them with the respective list entries\n",
        "ax.set_xticks(np.arange(len(layer2_list)))\n",
        "ax.set_xticklabels(layer2_list)\n",
        "ax.set_yticks(np.arange(len(layer1_list)))\n",
        "ax.set_yticklabels(layer1_list)\n",
        "plt.xlabel(\"layer 2 node count\")\n",
        "plt.ylabel(\"layer 1 node count\")\n",
        "\n",
        "textcolors = [\"k\", \"w\"]\n",
        "threshold = (np.nanmax(results)+np.nanmin(results))/2\n",
        "# Loop over data dimensions and create text annotations.\n",
        "for i in range(len(layer1_list)):\n",
        "    for j in range(len(layer2_list)):\n",
        "        t = \"-\" if results[i, j] == np.nan else round(results[i, j],1)\n",
        "        text = ax.text(j, i, t,\n",
        "                        ha=\"center\", va=\"center\", color=textcolors[int(results[i, j] < threshold)])\n",
        "\n",
        "ax.set_title(\"Average accuracy % of 5 K-Fold cross validated model\")\n",
        "fig.tight_layout()\n",
        "plt.colorbar(im)"
      ],
      "metadata": {
        "colab": {
          "base_uri": "https://localhost:8080/",
          "height": 699
        },
        "id": "bNpzy1fAHFeA",
        "outputId": "d92163bd-78c3-410b-a2c6-38ba537868d8"
      },
      "execution_count": null,
      "outputs": [
        {
          "output_type": "execute_result",
          "data": {
            "text/plain": [
              "<matplotlib.colorbar.Colorbar at 0x7f4a7812a310>"
            ]
          },
          "metadata": {},
          "execution_count": 132
        },
        {
          "output_type": "display_data",
          "data": {
            "text/plain": [
              "<Figure size 720x720 with 2 Axes>"
            ],
            "image/png": "[encoded data removed]"
          },
          "metadata": {
            "needs_background": "light"
          }
        }
      ]
    },
    {
      "cell_type": "markdown",
      "source": [
        "Checking layer1: 85-100, layer2: 85-100, as it's the highest scores on the heatmap."
      ],
      "metadata": {
        "id": "jof0-RoJ5cFu"
      }
    },
    {
      "cell_type": "code",
      "source": [
        "from sklearn.model_selection import StratifiedKFold\n",
        "\n",
        "k_folds = 5\n",
        "epochs = 100\n",
        "\n",
        "layer1_start = 85\n",
        "layer1_end = 101\n",
        "layer1_step = 5\n",
        "\n",
        "layer2_start = 85\n",
        "layer2_end = 101\n",
        "layer2_step = 5\n",
        "\n",
        "\n",
        "layer1_list = range(layer1_start, layer1_end, layer1_step)\n",
        "layer2_list = range(layer2_start, layer2_end, layer2_step)\n",
        "\n",
        "results = np.empty((len(layer1_list), len(layer2_list)))\n",
        "results[:] = np.nan\n",
        "\n",
        "outer_i = 0\n",
        "for layer1 in layer1_list:\n",
        "    valid_layer2_list = []\n",
        "    for i in range(len(layer2_list)):\n",
        "        if abs(layer2_list[i] - layer1) <= 30:\n",
        "            valid_layer2_list.append((layer2_list[i], i))\n",
        "    for layer2 in valid_layer2_list:\n",
        "        inner_i = layer2[1]\n",
        "        layer2 = layer2[0]\n",
        "\n",
        "        np.random.seed(SEED)\n",
        "        random.seed(SEED)\n",
        "        torch.manual_seed(SEED)\n",
        "        torch.cuda.manual_seed(SEED)\n",
        "        torch.cuda.manual_seed_all(SEED)\n",
        "\n",
        "        kfold = StratifiedKFold(n_splits=k_folds, shuffle=True, random_state=SEED)\n",
        "        avg_acc = 0\n",
        "        avg_loss = 0\n",
        "\n",
        "        for fold, (train_ids, test_ids) in enumerate(kfold.split(Xs_train, y_train)):\n",
        "            train_Xs_fold = Xs_train.iloc[train_ids]\n",
        "            test_Xs_fold = Xs_train.iloc[test_ids]\n",
        "            train_y_fold = y_train.iloc[train_ids]\n",
        "            test_y_fold = y_train.iloc[test_ids]\n",
        "\n",
        "            tensor_Xs_fold_train = torch.tensor(train_Xs_fold.values.astype(np.float32))\n",
        "            tensor_Xs_fold_test = torch.tensor(test_Xs_fold.values.astype(np.float32))\n",
        "            tensor_y_fold_train = torch.tensor(train_y_fold.values.astype(np.float32))\n",
        "            tensor_y_fold_test = torch.tensor(test_y_fold.values.astype(np.float32))\n",
        "\n",
        "            dataset_train_fold = TensorDataset(\n",
        "                tensor_Xs_fold_train, tensor_y_fold_train\n",
        "            )\n",
        "            dataset_test_fold = TensorDataset(tensor_Xs_fold_test, tensor_y_fold_test)\n",
        "\n",
        "            train_dataloader_kfold = DataLoader(\n",
        "                dataset_train_fold,\n",
        "                batch_size=batch_s,\n",
        "                shuffle=True,\n",
        "                worker_init_fn=seed_worker,\n",
        "                num_workers=0,\n",
        "            )\n",
        "            test_dataloader_kfold = DataLoader(\n",
        "                dataset_test_fold,\n",
        "                batch_size=batch_s,\n",
        "                shuffle=True,\n",
        "                worker_init_fn=seed_worker,\n",
        "                num_workers=0,\n",
        "            )\n",
        "\n",
        "            model = Network(10, layer1, layer2, 1).to(device)\n",
        "            max_epoch_acc = 0\n",
        "            max_acc_diff = 0.1\n",
        "\n",
        "            for t in range(epochs):\n",
        "                train_acc = train(train_dataloader_kfold, model, loss_fn)\n",
        "                test_result = test(test_dataloader_kfold, model, loss_fn)\n",
        "\n",
        "                if train_acc - test_result[0] >= (train_acc * max_acc_diff):\n",
        "                    break\n",
        "                if test_result[0] > max_epoch_acc:\n",
        "                    max_epoch_acc = test_result[0]\n",
        "            avg_acc += max_epoch_acc / k_folds\n",
        "        print((layer1, layer2), avg_acc)\n",
        "        results[outer_i][inner_i] = avg_acc\n",
        "    outer_i += 1"
      ],
      "metadata": {
        "colab": {
          "base_uri": "https://localhost:8080/"
        },
        "id": "GS0los2cPsMR",
        "outputId": "e9a3fcbb-2851-4e68-b942-4d6dfe586f56"
      },
      "execution_count": null,
      "outputs": [
        {
          "output_type": "stream",
          "name": "stdout",
          "text": [
            "(85, 85) 84.44048010185222\n",
            "(85, 90) 84.55794442847298\n",
            "(85, 95) 84.78217791285061\n",
            "(85, 100) 84.70743722078478\n",
            "(90, 85) 84.49388179300087\n",
            "(90, 90) 84.61137464007192\n",
            "(90, 95) 84.71812098146856\n",
            "(90, 100) 84.77154548897742\n",
            "(95, 85) 84.62197854349482\n",
            "(95, 90) 84.70748285350527\n",
            "(95, 95) 84.6327193450792\n",
            "(95, 100) 84.68612103622782\n",
            "(100, 85) 84.50451992096413\n",
            "(100, 90) 84.57932335802064\n",
            "(100, 95) 84.60066235893785\n",
            "(100, 100) 84.78222354557111\n"
          ]
        }
      ]
    },
    {
      "cell_type": "code",
      "source": [
        "fig, ax = plt.subplots(figsize=(10,10))\n",
        "im = ax.imshow(results)\n",
        "# Show all ticks and label them with the respective list entries\n",
        "ax.set_xticks(np.arange(len(layer2_list)))\n",
        "ax.set_xticklabels(layer2_list)\n",
        "ax.set_yticks(np.arange(len(layer1_list)))\n",
        "ax.set_yticklabels(layer1_list)\n",
        "plt.xlabel(\"layer 2 node count\")\n",
        "plt.ylabel(\"layer 1 node count\")\n",
        "\n",
        "textcolors = [\"k\", \"w\"]\n",
        "threshold = (np.nanmax(results)+np.nanmin(results))/2\n",
        "# Loop over data dimensions and create text annotations.\n",
        "for i in range(len(layer1_list)):\n",
        "    for j in range(len(layer2_list)):\n",
        "        t = \"-\" if results[i, j] == np.nan else round(results[i, j],1)\n",
        "        text = ax.text(j, i, t,\n",
        "                        ha=\"center\", va=\"center\", color=textcolors[int(results[i, j] < threshold)])\n",
        "\n",
        "ax.set_title(\"Average accuracy % of 5 K-Fold cross validated model\")\n",
        "fig.tight_layout()\n",
        "plt.colorbar(im)"
      ],
      "metadata": {
        "id": "moiWAvKSPsk7",
        "colab": {
          "base_uri": "https://localhost:8080/",
          "height": 699
        },
        "outputId": "1b734142-c19a-4ea5-8f8a-b3ff8be9cca7"
      },
      "execution_count": null,
      "outputs": [
        {
          "output_type": "execute_result",
          "data": {
            "text/plain": [
              "<matplotlib.colorbar.Colorbar at 0x7fb18837dd30>"
            ]
          },
          "metadata": {},
          "execution_count": 19
        },
        {
          "output_type": "display_data",
          "data": {
            "text/plain": [
              "<Figure size 720x720 with 2 Axes>"
            ],
            "image/png": "[encoded data removed]"
          },
          "metadata": {
            "needs_background": "light"
          }
        }
      ]
    },
    {
      "cell_type": "markdown",
      "source": [
        "Fine search for layer1: 85-100, layer2: 95-100."
      ],
      "metadata": {
        "id": "gmd7Kqs65p2d"
      }
    },
    {
      "cell_type": "code",
      "source": [
        "from sklearn.model_selection import StratifiedKFold\n",
        "\n",
        "k_folds = 5\n",
        "epochs = 100\n",
        "\n",
        "layer1_start = 85\n",
        "layer1_end = 101\n",
        "layer1_step = 1\n",
        "\n",
        "layer2_start = 95\n",
        "layer2_end = 101\n",
        "layer2_step = 1\n",
        "\n",
        "\n",
        "layer1_list = range(layer1_start, layer1_end, layer1_step)\n",
        "layer2_list = range(layer2_start, layer2_end, layer2_step)\n",
        "\n",
        "results = np.empty((len(layer1_list), len(layer2_list)))\n",
        "results[:] = np.nan\n",
        "\n",
        "outer_i = 0\n",
        "for layer1 in layer1_list:\n",
        "    valid_layer2_list = []\n",
        "    for i in range(len(layer2_list)):\n",
        "        if abs(layer2_list[i] - layer1) <= 30:\n",
        "            valid_layer2_list.append((layer2_list[i], i))\n",
        "    for layer2 in valid_layer2_list:\n",
        "        inner_i = layer2[1]\n",
        "        layer2 = layer2[0]\n",
        "\n",
        "        np.random.seed(SEED)\n",
        "        random.seed(SEED)\n",
        "        torch.manual_seed(SEED)\n",
        "        torch.cuda.manual_seed(SEED)\n",
        "        torch.cuda.manual_seed_all(SEED)\n",
        "\n",
        "        kfold = StratifiedKFold(n_splits=k_folds, shuffle=True, random_state=SEED)\n",
        "        avg_acc = 0\n",
        "        avg_loss = 0\n",
        "\n",
        "        for fold, (train_ids, test_ids) in enumerate(kfold.split(Xs_train, y_train)):\n",
        "            train_Xs_fold = Xs_train.iloc[train_ids]\n",
        "            test_Xs_fold = Xs_train.iloc[test_ids]\n",
        "            train_y_fold = y_train.iloc[train_ids]\n",
        "            test_y_fold = y_train.iloc[test_ids]\n",
        "\n",
        "            tensor_Xs_fold_train = torch.tensor(train_Xs_fold.values.astype(np.float32))\n",
        "            tensor_Xs_fold_test = torch.tensor(test_Xs_fold.values.astype(np.float32))\n",
        "            tensor_y_fold_train = torch.tensor(train_y_fold.values.astype(np.float32))\n",
        "            tensor_y_fold_test = torch.tensor(test_y_fold.values.astype(np.float32))\n",
        "\n",
        "            dataset_train_fold = TensorDataset(\n",
        "                tensor_Xs_fold_train, tensor_y_fold_train\n",
        "            )\n",
        "            dataset_test_fold = TensorDataset(tensor_Xs_fold_test, tensor_y_fold_test)\n",
        "\n",
        "            train_dataloader_kfold = DataLoader(\n",
        "                dataset_train_fold,\n",
        "                batch_size=batch_s,\n",
        "                shuffle=True,\n",
        "                worker_init_fn=seed_worker,\n",
        "                num_workers=0,\n",
        "            )\n",
        "            test_dataloader_kfold = DataLoader(\n",
        "                dataset_test_fold,\n",
        "                batch_size=batch_s,\n",
        "                shuffle=True,\n",
        "                worker_init_fn=seed_worker,\n",
        "                num_workers=0,\n",
        "            )\n",
        "\n",
        "            model = Network(10, layer1, layer2, 1).to(device)\n",
        "            max_epoch_acc = 0\n",
        "            max_acc_diff = 0.1\n",
        "\n",
        "            for t in range(epochs):\n",
        "                train_acc = train(train_dataloader_kfold, model, loss_fn)\n",
        "                test_result = test(test_dataloader_kfold, model, loss_fn)\n",
        "\n",
        "                if train_acc - test_result[0] >= (train_acc * max_acc_diff):\n",
        "                    break\n",
        "                if test_result[0] > max_epoch_acc:\n",
        "                    max_epoch_acc = test_result[0]\n",
        "            avg_acc += max_epoch_acc / k_folds\n",
        "        print((layer1, layer2), avg_acc)\n",
        "        results[outer_i][inner_i] = avg_acc\n",
        "    outer_i += 1"
      ],
      "metadata": {
        "colab": {
          "base_uri": "https://localhost:8080/"
        },
        "id": "Kq1aUBOoy8yq",
        "outputId": "f0ec3dac-5853-42a9-e02e-e3ed963ced08"
      },
      "execution_count": null,
      "outputs": [
        {
          "output_type": "stream",
          "name": "stdout",
          "text": [
            "(85, 95) 84.78217791285061\n",
            "(85, 96) 84.57932335802064\n",
            "(85, 97) 84.62206410484573\n",
            "(85, 98) 84.4938874970909\n",
            "(85, 99) 84.52592166687202\n",
            "(85, 100) 84.70743722078478\n",
            "(86, 95) 84.75019507988009\n",
            "(86, 96) 84.56859966870645\n",
            "(86, 97) 84.52589314642171\n",
            "(86, 98) 84.54730059641966\n",
            "(86, 99) 84.83560242035948\n",
            "(86, 100) 84.55791020393262\n",
            "(87, 95) 84.76085602420359\n",
            "(87, 96) 84.62202417621532\n",
            "(87, 97) 84.75018367169994\n",
            "(87, 98) 84.61135182371169\n",
            "(87, 99) 84.78220072921087\n",
            "(87, 100) 84.63273075325931\n",
            "(88, 95) 84.52591596278194\n",
            "(88, 96) 84.60064524666767\n",
            "(88, 97) 84.51523790618825\n",
            "(88, 98) 84.80357965875852\n",
            "(88, 99) 84.67544297963411\n",
            "(88, 100) 84.39776217138738\n",
            "(89, 95) 84.48320373640715\n",
            "(89, 96) 84.70747144532515\n",
            "(89, 97) 84.53659972346571\n",
            "(89, 98) 84.50457696186473\n",
            "(89, 99) 84.63267371235872\n",
            "(89, 100) 84.68606399532722\n",
            "(90, 95) 84.71812098146856\n",
            "(90, 96) 84.60067947120803\n",
            "(90, 97) 84.69677057237121\n",
            "(90, 98) 84.72883896669268\n",
            "(90, 99) 84.68612674031787\n",
            "(90, 100) 84.77154548897742\n",
            "(91, 95) 84.56864530142693\n",
            "(91, 96) 84.70748855759534\n",
            "(91, 97) 84.76085032011355\n",
            "(91, 98) 84.67543157145398\n",
            "(91, 99) 84.65406405008648\n",
            "(91, 100) 84.52595018732232\n",
            "(92, 95) 84.75025782487074\n",
            "(92, 96) 84.66475921895035\n",
            "(92, 97) 84.69680479691156\n",
            "(92, 98) 84.6540298255461\n",
            "(92, 99) 84.7181152773785\n",
            "(92, 100) 84.67542016327388\n",
            "(93, 95) 84.44049151003236\n",
            "(93, 96) 84.98511232494147\n",
            "(93, 97) 84.7608674323837\n",
            "(93, 98) 85.05988153745761\n",
            "(93, 99) 84.66473069850005\n",
            "(93, 100) 84.62202417621532\n",
            "(94, 95) 84.51523790618825\n",
            "(94, 96) 84.68606399532722\n",
            "(94, 97) 84.57930624575044\n",
            "(94, 98) 84.76086743238372\n",
            "(94, 99) 84.60069087938815\n",
            "(94, 100) 84.42980204525853\n",
            "(95, 95) 84.6327193450792\n",
            "(95, 96) 84.71815520600892\n",
            "(95, 97) 84.80356254648834\n",
            "(95, 98) 84.7608389119334\n",
            "(95, 99) 84.82492436376579\n",
            "(95, 100) 84.68612103622782\n",
            "(96, 95) 84.56865670960705\n",
            "(96, 96) 84.5793119498405\n",
            "(96, 97) 84.64338599349279\n",
            "(96, 98) 84.65408116235665\n",
            "(96, 99) 84.83561953262969\n",
            "(96, 100) 84.70748285350527\n",
            "(97, 95) 84.64337458531267\n",
            "(97, 96) 84.6967876846414\n",
            "(97, 97) 84.57929483757033\n",
            "(97, 98) 84.77151126443707\n",
            "(97, 99) 84.69676486828115\n",
            "(97, 100) 84.49384756846048\n",
            "(98, 95) 84.76085032011352\n",
            "(98, 96) 84.88902692786836\n",
            "(98, 97) 84.68609251577752\n",
            "(98, 98) 84.82496429239623\n",
            "(98, 99) 84.55793302029288\n",
            "(98, 100) 84.64340880985303\n",
            "(99, 95) 84.75018367169996\n",
            "(99, 96) 84.57930054166039\n",
            "(99, 98) 84.70746574123508\n",
            "(99, 99) 84.6967876846414\n",
            "(99, 100) 84.78218932103076\n",
            "(100, 95) 84.60066235893785\n",
            "(100, 96) 84.52589885051178\n",
            "(100, 97) 84.75019507988007\n",
            "(100, 98) 84.46186473548994\n",
            "(100, 99) 84.64340310576296\n",
            "(100, 100) 84.78222354557111\n"
          ]
        }
      ]
    },
    {
      "cell_type": "code",
      "source": [
        "fig, ax = plt.subplots(figsize=(10,10))\n",
        "im = ax.imshow(results)\n",
        "# Show all ticks and label them with the respective list entries\n",
        "ax.set_xticks(np.arange(len(layer2_list)))\n",
        "ax.set_xticklabels(layer2_list)\n",
        "ax.set_yticks(np.arange(len(layer1_list)))\n",
        "ax.set_yticklabels(layer1_list)\n",
        "plt.xlabel(\"layer 2 node count\")\n",
        "plt.ylabel(\"layer 1 node count\")\n",
        "\n",
        "textcolors = [\"k\", \"w\"]\n",
        "threshold = (np.nanmax(results)+np.nanmin(results))/2\n",
        "# Loop over data dimensions and create text annotations.\n",
        "for i in range(len(layer1_list)):\n",
        "    for j in range(len(layer2_list)):\n",
        "        t = \"-\" if results[i, j] == np.nan else round(results[i, j],1)\n",
        "        text = ax.text(j, i, t,\n",
        "                        ha=\"center\", va=\"center\", color=textcolors[int(results[i, j] < threshold)])\n",
        "\n",
        "ax.set_title(\"Average accuracy % of 5 K-Fold cross validated model\")\n",
        "fig.tight_layout()\n",
        "plt.colorbar(im)"
      ],
      "metadata": {
        "colab": {
          "base_uri": "https://localhost:8080/",
          "height": 746
        },
        "id": "XWdOn8t5ziF1",
        "outputId": "2f89237d-61cb-4bab-9087-5e08cc214d5f"
      },
      "execution_count": null,
      "outputs": [
        {
          "output_type": "execute_result",
          "data": {
            "text/plain": [
              "<matplotlib.colorbar.Colorbar at 0x7fb181547310>"
            ]
          },
          "metadata": {},
          "execution_count": 35
        },
        {
          "output_type": "display_data",
          "data": {
            "text/plain": [
              "<Figure size 720x720 with 2 Axes>"
            ],
            "image/png": "[encoded data removed]"
          },
          "metadata": {
            "needs_background": "light"
          }
        }
      ]
    },
    {
      "cell_type": "markdown",
      "source": [
        "Using layer1: 93, layer2: 98, since it has the highest accuracy."
      ],
      "metadata": {
        "id": "IBtTzlG-Usz9"
      }
    },
    {
      "cell_type": "code",
      "source": [
        "np.random.seed(SEED)\n",
        "random.seed(SEED)\n",
        "torch.manual_seed(SEED)\n",
        "torch.cuda.manual_seed(SEED)\n",
        "torch.cuda.manual_seed_all(SEED)\n",
        "\n",
        "\n",
        "tensor_Xs_train = torch.tensor(Xs_train.values.astype(np.float32))\n",
        "tensor_Xs_test = torch.tensor(Xs_test.values.astype(np.float32))\n",
        "tensor_y_train = torch.tensor(y_train.values.astype(np.float32))\n",
        "tensor_y_test = torch.tensor(y_test.values.astype(np.float32))\n",
        "\n",
        "dataset_train = TensorDataset(tensor_Xs_train, tensor_y_train)\n",
        "dataset_test = TensorDataset(tensor_Xs_test, tensor_y_test)\n",
        "\n",
        "train_dataloader = DataLoader(\n",
        "    dataset_train,\n",
        "    batch_size=batch_s,\n",
        "    shuffle=True,\n",
        "    worker_init_fn=seed_worker,\n",
        "    num_workers=0,\n",
        ")\n",
        "test_dataloader = DataLoader(\n",
        "    dataset_test,\n",
        "    batch_size=batch_s,\n",
        "    shuffle=True,\n",
        "    worker_init_fn=seed_worker,\n",
        "    num_workers=0,\n",
        ")\n",
        "\n",
        "layer1 = 93\n",
        "layer2 = 98\n",
        "model = Network(10, layer1, layer2, 1).to(device)\n",
        "\n",
        "training_acc = 0\n",
        "max_acc = 85.1 + 3  # don't go higher than 3 precent more than kfold accuracy\n",
        "\n",
        "t = 1\n",
        "while training_acc <= max_acc:\n",
        "    training_acc = train(train_dataloader, model, loss_fn)\n",
        "    print(f\"epoch: {t}, training accuracy: {training_acc}\")\n",
        "    t += 1\n",
        "test_result = test(test_dataloader, model, loss_fn)\n",
        "torch.save(model.state_dict(), \"model\")\n",
        "print(f\"Testing accuracy: {round(test_result[0],2)}\")\n",
        "print(f\"Testing loss: {round(test_result[1],4)}\")"
      ],
      "metadata": {
        "colab": {
          "base_uri": "https://localhost:8080/"
        },
        "id": "spenWgvCUz-l",
        "outputId": "759a5dd4-681c-4d90-e33d-fac8f744727b"
      },
      "execution_count": null,
      "outputs": [
        {
          "output_type": "stream",
          "name": "stdout",
          "text": [
            "epoch: 1, training accuracy: 72.1806920119607\n",
            "epoch: 2, training accuracy: 76.17471166168303\n",
            "epoch: 3, training accuracy: 77.2212729602734\n",
            "epoch: 4, training accuracy: 78.09696710807347\n",
            "epoch: 5, training accuracy: 79.22896198205895\n",
            "epoch: 6, training accuracy: 79.53865869286629\n",
            "epoch: 7, training accuracy: 80.21144809910294\n",
            "epoch: 8, training accuracy: 80.25416488680051\n",
            "epoch: 9, training accuracy: 80.93763348996156\n",
            "epoch: 10, training accuracy: 81.32208457923964\n",
            "epoch: 11, training accuracy: 81.64246048697137\n",
            "epoch: 12, training accuracy: 81.87740281930799\n",
            "epoch: 13, training accuracy: 81.9841947885519\n",
            "epoch: 14, training accuracy: 81.93079880392995\n",
            "epoch: 15, training accuracy: 82.2191371208885\n",
            "epoch: 16, training accuracy: 82.68902178556172\n",
            "epoch: 17, training accuracy: 82.79581375480564\n",
            "epoch: 18, training accuracy: 82.53951302862025\n",
            "epoch: 19, training accuracy: 82.48611704399829\n",
            "epoch: 20, training accuracy: 82.95600170867151\n",
            "epoch: 21, training accuracy: 82.7210593763349\n",
            "epoch: 22, training accuracy: 83.10551046561298\n",
            "epoch: 23, training accuracy: 82.62494660401538\n",
            "epoch: 24, training accuracy: 82.90260572404955\n",
            "epoch: 25, training accuracy: 82.89192652712516\n",
            "epoch: 26, training accuracy: 83.35113199487398\n",
            "epoch: 27, training accuracy: 82.95600170867151\n",
            "epoch: 28, training accuracy: 83.18026484408372\n",
            "epoch: 29, training accuracy: 83.41520717642034\n",
            "epoch: 30, training accuracy: 83.15890645023494\n",
            "epoch: 31, training accuracy: 83.51131994873985\n",
            "epoch: 32, training accuracy: 83.65014950875694\n",
            "epoch: 33, training accuracy: 83.63947031183255\n",
            "epoch: 34, training accuracy: 83.74626228107647\n",
            "epoch: 35, training accuracy: 83.9491670226399\n",
            "epoch: 36, training accuracy: 83.73558308415208\n",
            "epoch: 37, training accuracy: 83.65014950875694\n",
            "epoch: 38, training accuracy: 83.47928235796668\n",
            "epoch: 39, training accuracy: 83.75694147800085\n",
            "epoch: 40, training accuracy: 83.97052541648868\n",
            "epoch: 41, training accuracy: 83.83169585647158\n",
            "epoch: 42, training accuracy: 83.88509184109355\n",
            "epoch: 43, training accuracy: 84.00256300726186\n",
            "epoch: 44, training accuracy: 83.9598462195643\n",
            "epoch: 45, training accuracy: 83.83169585647158\n",
            "epoch: 46, training accuracy: 84.08799658265698\n",
            "epoch: 47, training accuracy: 84.18410935497651\n",
            "epoch: 48, training accuracy: 83.89577103801794\n",
            "epoch: 49, training accuracy: 84.06663818880821\n",
            "epoch: 50, training accuracy: 84.21614694574968\n",
            "epoch: 51, training accuracy: 83.83169585647158\n",
            "epoch: 52, training accuracy: 84.21614694574968\n",
            "epoch: 53, training accuracy: 84.53652285348142\n",
            "epoch: 54, training accuracy: 84.04527979495941\n",
            "epoch: 55, training accuracy: 84.50448526270824\n",
            "epoch: 56, training accuracy: 84.0773173857326\n",
            "epoch: 57, training accuracy: 84.03460059803503\n",
            "epoch: 58, training accuracy: 84.45108927808629\n",
            "epoch: 59, training accuracy: 84.33361811191799\n",
            "epoch: 60, training accuracy: 84.62195642887654\n",
            "epoch: 61, training accuracy: 84.3122597180692\n",
            "epoch: 62, training accuracy: 84.37633489961554\n",
            "epoch: 63, training accuracy: 84.42973088423751\n",
            "epoch: 64, training accuracy: 84.29090132422043\n",
            "epoch: 65, training accuracy: 84.37633489961554\n",
            "epoch: 66, training accuracy: 84.53652285348142\n",
            "epoch: 67, training accuracy: 84.24818453652286\n",
            "epoch: 68, training accuracy: 84.25886373344724\n",
            "epoch: 69, training accuracy: 84.56856044425459\n",
            "epoch: 70, training accuracy: 84.64331482272533\n",
            "epoch: 71, training accuracy: 84.66467321657412\n",
            "epoch: 72, training accuracy: 84.64331482272533\n",
            "epoch: 73, training accuracy: 84.46176847501067\n",
            "epoch: 74, training accuracy: 84.57923964117899\n",
            "epoch: 75, training accuracy: 84.51516445963263\n",
            "epoch: 76, training accuracy: 84.48312686885946\n",
            "epoch: 77, training accuracy: 84.63263562580094\n",
            "epoch: 78, training accuracy: 84.47244767193507\n",
            "epoch: 79, training accuracy: 84.73942759504484\n",
            "epoch: 80, training accuracy: 84.84621956428876\n",
            "epoch: 81, training accuracy: 84.76078598889364\n",
            "epoch: 82, training accuracy: 84.79282357966682\n",
            "epoch: 83, training accuracy: 84.79282357966682\n",
            "epoch: 84, training accuracy: 84.78214438274242\n",
            "epoch: 85, training accuracy: 84.72874839812046\n",
            "epoch: 86, training accuracy: 85.1665954720205\n",
            "epoch: 87, training accuracy: 84.66467321657412\n",
            "epoch: 88, training accuracy: 84.91029474583512\n",
            "epoch: 89, training accuracy: 85.18795386586928\n",
            "epoch: 90, training accuracy: 84.93165313968389\n",
            "epoch: 91, training accuracy: 84.6753524134985\n",
            "epoch: 92, training accuracy: 84.9209739427595\n",
            "epoch: 93, training accuracy: 84.85689876121316\n",
            "epoch: 94, training accuracy: 85.09184109354977\n",
            "epoch: 95, training accuracy: 84.5578812473302\n",
            "epoch: 96, training accuracy: 85.05980350277659\n",
            "epoch: 97, training accuracy: 85.36950021358393\n",
            "epoch: 98, training accuracy: 85.10252029047416\n",
            "epoch: 99, training accuracy: 84.79282357966682\n",
            "epoch: 100, training accuracy: 85.32678342588638\n",
            "epoch: 101, training accuracy: 85.27338744126442\n",
            "epoch: 102, training accuracy: 85.21999145664246\n",
            "epoch: 103, training accuracy: 85.08116189662537\n",
            "epoch: 104, training accuracy: 85.05980350277659\n",
            "epoch: 105, training accuracy: 85.47629218282785\n",
            "epoch: 106, training accuracy: 85.35882101665955\n",
            "epoch: 107, training accuracy: 85.08116189662537\n",
            "epoch: 108, training accuracy: 85.30542503203759\n",
            "epoch: 109, training accuracy: 85.47629218282785\n",
            "epoch: 110, training accuracy: 85.25202904741563\n",
            "epoch: 111, training accuracy: 85.39085860743272\n",
            "epoch: 112, training accuracy: 85.44425459205468\n",
            "epoch: 113, training accuracy: 85.25202904741563\n",
            "epoch: 114, training accuracy: 84.97436992738146\n",
            "epoch: 115, training accuracy: 85.58308415207176\n",
            "epoch: 116, training accuracy: 85.56172575822299\n",
            "epoch: 117, training accuracy: 85.50832977360102\n",
            "epoch: 118, training accuracy: 85.5190089705254\n",
            "epoch: 119, training accuracy: 85.55104656129859\n",
            "epoch: 120, training accuracy: 85.70055531824006\n",
            "epoch: 121, training accuracy: 85.48697137975225\n",
            "epoch: 122, training accuracy: 85.48697137975225\n",
            "epoch: 123, training accuracy: 85.05980350277659\n",
            "epoch: 124, training accuracy: 85.47629218282785\n",
            "epoch: 125, training accuracy: 85.32678342588638\n",
            "epoch: 126, training accuracy: 85.48697137975225\n",
            "epoch: 127, training accuracy: 85.58308415207176\n",
            "epoch: 128, training accuracy: 85.5403673643742\n",
            "epoch: 129, training accuracy: 85.80734728748398\n",
            "epoch: 130, training accuracy: 85.62580093976932\n",
            "epoch: 131, training accuracy: 85.59376334899615\n",
            "epoch: 132, training accuracy: 85.52968816744982\n",
            "epoch: 133, training accuracy: 85.57240495514738\n",
            "epoch: 134, training accuracy: 85.60444254592055\n",
            "epoch: 135, training accuracy: 85.72191371208885\n",
            "epoch: 136, training accuracy: 85.63648013669372\n",
            "epoch: 137, training accuracy: 85.58308415207176\n",
            "epoch: 138, training accuracy: 85.24134985049125\n",
            "epoch: 139, training accuracy: 85.7859888936352\n",
            "epoch: 140, training accuracy: 85.25202904741563\n",
            "epoch: 141, training accuracy: 85.92481845365228\n",
            "epoch: 142, training accuracy: 85.9034600598035\n",
            "epoch: 143, training accuracy: 85.89278086287912\n",
            "epoch: 144, training accuracy: 85.94617684750106\n",
            "epoch: 145, training accuracy: 85.82870568133276\n",
            "epoch: 146, training accuracy: 85.83938487825715\n",
            "epoch: 147, training accuracy: 85.67919692439129\n",
            "epoch: 148, training accuracy: 85.76463049978642\n",
            "epoch: 149, training accuracy: 85.71123451516446\n",
            "epoch: 150, training accuracy: 86.0422896198206\n",
            "epoch: 151, training accuracy: 85.5190089705254\n",
            "epoch: 152, training accuracy: 86.07432721059376\n",
            "epoch: 153, training accuracy: 85.9034600598035\n",
            "epoch: 154, training accuracy: 86.05296881674498\n",
            "epoch: 155, training accuracy: 85.75395130286202\n",
            "epoch: 156, training accuracy: 85.91413925672789\n",
            "epoch: 157, training accuracy: 86.22383596753525\n",
            "epoch: 158, training accuracy: 86.0316104228962\n",
            "epoch: 159, training accuracy: 85.9034600598035\n",
            "epoch: 160, training accuracy: 86.08500640751815\n",
            "epoch: 161, training accuracy: 85.79666809055959\n",
            "epoch: 162, training accuracy: 85.94617684750106\n",
            "epoch: 163, training accuracy: 86.20247757368645\n",
            "epoch: 164, training accuracy: 86.09568560444255\n",
            "epoch: 165, training accuracy: 86.14908158906451\n",
            "epoch: 166, training accuracy: 86.0316104228962\n",
            "epoch: 167, training accuracy: 85.99957283212302\n",
            "epoch: 168, training accuracy: 85.88210166595472\n",
            "epoch: 169, training accuracy: 86.05296881674498\n",
            "epoch: 170, training accuracy: 85.71123451516446\n",
            "epoch: 171, training accuracy: 86.10636480136694\n",
            "epoch: 172, training accuracy: 86.07432721059376\n",
            "epoch: 173, training accuracy: 86.0316104228962\n",
            "epoch: 174, training accuracy: 86.41606151217428\n",
            "epoch: 175, training accuracy: 85.9034600598035\n",
            "epoch: 176, training accuracy: 86.23451516445964\n",
            "epoch: 177, training accuracy: 86.26655275523281\n",
            "epoch: 178, training accuracy: 86.19179837676207\n",
            "epoch: 179, training accuracy: 86.26655275523281\n",
            "epoch: 180, training accuracy: 86.22383596753525\n",
            "epoch: 181, training accuracy: 86.29859034600598\n",
            "epoch: 182, training accuracy: 86.14908158906451\n",
            "epoch: 183, training accuracy: 86.42674070909867\n",
            "epoch: 184, training accuracy: 86.11704399829134\n",
            "epoch: 185, training accuracy: 86.33062793677915\n",
            "epoch: 186, training accuracy: 86.19179837676207\n",
            "epoch: 187, training accuracy: 86.13840239214011\n",
            "epoch: 188, training accuracy: 86.0422896198206\n",
            "epoch: 189, training accuracy: 86.30926954293037\n",
            "epoch: 190, training accuracy: 86.02093122597181\n",
            "epoch: 191, training accuracy: 86.35198633062794\n",
            "epoch: 192, training accuracy: 86.26655275523281\n",
            "epoch: 193, training accuracy: 86.21315677061085\n",
            "epoch: 194, training accuracy: 86.23451516445964\n",
            "epoch: 195, training accuracy: 86.5228534814182\n",
            "epoch: 196, training accuracy: 86.30926954293037\n",
            "epoch: 197, training accuracy: 86.28791114908158\n",
            "epoch: 198, training accuracy: 86.46945749679624\n",
            "epoch: 199, training accuracy: 86.3947031183255\n",
            "epoch: 200, training accuracy: 86.2772319521572\n",
            "epoch: 201, training accuracy: 86.26655275523281\n",
            "epoch: 202, training accuracy: 86.43741990602307\n",
            "epoch: 203, training accuracy: 86.45877829987185\n",
            "epoch: 204, training accuracy: 86.23451516445964\n",
            "epoch: 205, training accuracy: 86.57624946604015\n",
            "epoch: 206, training accuracy: 86.68304143528407\n",
            "epoch: 207, training accuracy: 86.74711661683041\n",
            "epoch: 208, training accuracy: 86.30926954293037\n",
            "epoch: 209, training accuracy: 86.48013669372064\n",
            "epoch: 210, training accuracy: 86.48013669372064\n",
            "epoch: 211, training accuracy: 86.51217428449381\n",
            "epoch: 212, training accuracy: 86.78983340452798\n",
            "epoch: 213, training accuracy: 86.36266552755232\n",
            "epoch: 214, training accuracy: 86.46945749679624\n",
            "epoch: 215, training accuracy: 86.49081589064502\n",
            "epoch: 216, training accuracy: 86.0316104228962\n",
            "epoch: 217, training accuracy: 86.29859034600598\n",
            "epoch: 218, training accuracy: 86.41606151217428\n",
            "epoch: 219, training accuracy: 86.0316104228962\n",
            "epoch: 220, training accuracy: 86.51217428449381\n",
            "epoch: 221, training accuracy: 86.38402392140111\n",
            "epoch: 222, training accuracy: 86.54421187526698\n",
            "epoch: 223, training accuracy: 86.42674070909867\n",
            "epoch: 224, training accuracy: 86.60828705681332\n",
            "epoch: 225, training accuracy: 86.25587355830842\n",
            "epoch: 226, training accuracy: 86.59760785988894\n",
            "epoch: 227, training accuracy: 86.42674070909867\n",
            "epoch: 228, training accuracy: 86.46945749679624\n",
            "epoch: 229, training accuracy: 86.56557026911577\n",
            "epoch: 230, training accuracy: 86.5228534814182\n",
            "epoch: 231, training accuracy: 86.37334472447672\n",
            "epoch: 232, training accuracy: 86.78983340452798\n",
            "epoch: 233, training accuracy: 86.38402392140111\n",
            "epoch: 234, training accuracy: 86.67236223835968\n",
            "epoch: 235, training accuracy: 86.7577958137548\n",
            "epoch: 236, training accuracy: 86.7791542076036\n",
            "epoch: 237, training accuracy: 86.67236223835968\n",
            "epoch: 238, training accuracy: 86.70439982913285\n",
            "epoch: 239, training accuracy: 86.88594617684751\n",
            "epoch: 240, training accuracy: 86.5228534814182\n",
            "epoch: 241, training accuracy: 86.71507902605724\n",
            "epoch: 242, training accuracy: 86.61896625373771\n",
            "epoch: 243, training accuracy: 86.58692866296455\n",
            "epoch: 244, training accuracy: 86.57624946604015\n",
            "epoch: 245, training accuracy: 86.48013669372064\n",
            "epoch: 246, training accuracy: 86.5228534814182\n",
            "epoch: 247, training accuracy: 86.73643741990603\n",
            "epoch: 248, training accuracy: 86.70439982913285\n",
            "epoch: 249, training accuracy: 86.43741990602307\n",
            "epoch: 250, training accuracy: 86.7791542076036\n",
            "epoch: 251, training accuracy: 86.58692866296455\n",
            "epoch: 252, training accuracy: 86.60828705681332\n",
            "epoch: 253, training accuracy: 86.91798376762068\n",
            "epoch: 254, training accuracy: 86.80051260145237\n",
            "epoch: 255, training accuracy: 86.97137975224263\n",
            "epoch: 256, training accuracy: 86.51217428449381\n",
            "epoch: 257, training accuracy: 86.7791542076036\n",
            "epoch: 258, training accuracy: 86.8966253737719\n",
            "epoch: 259, training accuracy: 87.08885091841093\n",
            "epoch: 260, training accuracy: 86.7577958137548\n",
            "epoch: 261, training accuracy: 86.81119179837677\n",
            "epoch: 262, training accuracy: 86.81119179837677\n",
            "epoch: 263, training accuracy: 87.00341734301581\n",
            "epoch: 264, training accuracy: 86.85390858607433\n",
            "epoch: 265, training accuracy: 86.62964545066211\n",
            "epoch: 266, training accuracy: 86.80051260145237\n",
            "epoch: 267, training accuracy: 86.8966253737719\n",
            "epoch: 268, training accuracy: 87.04613413071337\n",
            "epoch: 269, training accuracy: 86.78983340452798\n",
            "epoch: 270, training accuracy: 86.85390858607433\n",
            "epoch: 271, training accuracy: 86.83255019222554\n",
            "epoch: 272, training accuracy: 86.7791542076036\n",
            "epoch: 273, training accuracy: 86.99273814609141\n",
            "epoch: 274, training accuracy: 86.96070055531824\n",
            "epoch: 275, training accuracy: 86.91798376762068\n",
            "epoch: 276, training accuracy: 86.91798376762068\n",
            "epoch: 277, training accuracy: 86.5228534814182\n",
            "epoch: 278, training accuracy: 86.60828705681332\n",
            "epoch: 279, training accuracy: 87.02477573686458\n",
            "epoch: 280, training accuracy: 87.12088850918411\n",
            "epoch: 281, training accuracy: 86.98205894916701\n",
            "epoch: 282, training accuracy: 86.74711661683041\n",
            "epoch: 283, training accuracy: 87.23835967535241\n",
            "epoch: 284, training accuracy: 86.95002135839385\n",
            "epoch: 285, training accuracy: 86.78983340452798\n",
            "epoch: 286, training accuracy: 86.68304143528407\n",
            "epoch: 287, training accuracy: 87.08885091841093\n",
            "epoch: 288, training accuracy: 86.95002135839385\n",
            "epoch: 289, training accuracy: 86.73643741990603\n",
            "epoch: 290, training accuracy: 86.83255019222554\n",
            "epoch: 291, training accuracy: 86.95002135839385\n",
            "epoch: 292, training accuracy: 87.21700128150363\n",
            "epoch: 293, training accuracy: 86.84322938914994\n",
            "epoch: 294, training accuracy: 86.80051260145237\n",
            "epoch: 295, training accuracy: 86.85390858607433\n",
            "epoch: 296, training accuracy: 87.0140965399402\n",
            "epoch: 297, training accuracy: 87.0140965399402\n",
            "epoch: 298, training accuracy: 87.2597180692012\n",
            "epoch: 299, training accuracy: 87.32379325074754\n",
            "epoch: 300, training accuracy: 87.03545493378898\n",
            "epoch: 301, training accuracy: 87.31311405382314\n",
            "epoch: 302, training accuracy: 86.81119179837677\n",
            "epoch: 303, training accuracy: 87.04613413071337\n",
            "epoch: 304, training accuracy: 87.2597180692012\n",
            "epoch: 305, training accuracy: 87.20632208457924\n",
            "epoch: 306, training accuracy: 87.15292609995728\n",
            "epoch: 307, training accuracy: 87.3771892353695\n",
            "epoch: 308, training accuracy: 87.29175565997437\n",
            "epoch: 309, training accuracy: 87.03545493378898\n",
            "epoch: 310, training accuracy: 87.32379325074754\n",
            "epoch: 311, training accuracy: 87.32379325074754\n",
            "epoch: 312, training accuracy: 87.06749252456216\n",
            "epoch: 313, training accuracy: 87.18496369073046\n",
            "epoch: 314, training accuracy: 86.99273814609141\n",
            "epoch: 315, training accuracy: 86.86458778299871\n",
            "epoch: 316, training accuracy: 87.2597180692012\n",
            "epoch: 317, training accuracy: 87.40922682614267\n",
            "epoch: 318, training accuracy: 87.34515164459633\n",
            "epoch: 319, training accuracy: 87.27039726612558\n",
            "epoch: 320, training accuracy: 87.32379325074754\n",
            "epoch: 321, training accuracy: 87.24903887227681\n",
            "epoch: 322, training accuracy: 87.30243485689876\n",
            "epoch: 323, training accuracy: 87.1422469030329\n",
            "epoch: 324, training accuracy: 87.38786843229389\n",
            "epoch: 325, training accuracy: 87.27039726612558\n",
            "epoch: 326, training accuracy: 87.07817172148654\n",
            "epoch: 327, training accuracy: 87.23835967535241\n",
            "epoch: 328, training accuracy: 87.34515164459633\n",
            "epoch: 329, training accuracy: 87.38786843229389\n",
            "epoch: 330, training accuracy: 87.45194361384024\n",
            "epoch: 331, training accuracy: 87.43058521999146\n",
            "epoch: 332, training accuracy: 86.95002135839385\n",
            "epoch: 333, training accuracy: 87.11020931225973\n",
            "epoch: 334, training accuracy: 87.04613413071337\n",
            "epoch: 335, training accuracy: 87.46262281076463\n",
            "epoch: 336, training accuracy: 87.40922682614267\n",
            "epoch: 337, training accuracy: 87.48398120461341\n",
            "epoch: 338, training accuracy: 87.39854762921829\n",
            "epoch: 339, training accuracy: 87.33447244767194\n",
            "epoch: 340, training accuracy: 87.16360529688167\n",
            "epoch: 341, training accuracy: 87.28107646304998\n",
            "epoch: 342, training accuracy: 87.27039726612558\n",
            "epoch: 343, training accuracy: 87.55873558308416\n",
            "epoch: 344, training accuracy: 87.52669799231097\n",
            "epoch: 345, training accuracy: 87.34515164459633\n",
            "epoch: 346, training accuracy: 87.46262281076463\n",
            "epoch: 347, training accuracy: 87.2597180692012\n",
            "epoch: 348, training accuracy: 87.53737718923537\n",
            "epoch: 349, training accuracy: 87.55873558308416\n",
            "epoch: 350, training accuracy: 87.2597180692012\n",
            "epoch: 351, training accuracy: 87.65484835540367\n",
            "epoch: 352, training accuracy: 87.29175565997437\n",
            "epoch: 353, training accuracy: 87.33447244767194\n",
            "epoch: 354, training accuracy: 87.64416915847929\n",
            "epoch: 355, training accuracy: 87.3771892353695\n",
            "epoch: 356, training accuracy: 87.68688594617686\n",
            "epoch: 357, training accuracy: 87.45194361384024\n",
            "epoch: 358, training accuracy: 87.21700128150363\n",
            "epoch: 359, training accuracy: 87.29175565997437\n",
            "epoch: 360, training accuracy: 87.45194361384024\n",
            "epoch: 361, training accuracy: 87.51601879538659\n",
            "epoch: 362, training accuracy: 87.39854762921829\n",
            "epoch: 363, training accuracy: 87.78299871849637\n",
            "epoch: 364, training accuracy: 87.4946604015378\n",
            "epoch: 365, training accuracy: 87.1422469030329\n",
            "epoch: 366, training accuracy: 87.40922682614267\n",
            "epoch: 367, training accuracy: 87.46262281076463\n",
            "epoch: 368, training accuracy: 87.51601879538659\n",
            "epoch: 369, training accuracy: 87.4946604015378\n",
            "epoch: 370, training accuracy: 87.43058521999146\n",
            "epoch: 371, training accuracy: 87.82571550619393\n",
            "epoch: 372, training accuracy: 87.63348996155489\n",
            "epoch: 373, training accuracy: 87.77231952157197\n",
            "epoch: 374, training accuracy: 87.47330200768903\n",
            "epoch: 375, training accuracy: 87.58009397693294\n",
            "epoch: 376, training accuracy: 87.30243485689876\n",
            "epoch: 377, training accuracy: 87.55873558308416\n",
            "epoch: 378, training accuracy: 87.53737718923537\n",
            "epoch: 379, training accuracy: 87.70824434002563\n",
            "epoch: 380, training accuracy: 87.87911149081589\n",
            "epoch: 381, training accuracy: 87.43058521999146\n",
            "epoch: 382, training accuracy: 87.54805638615976\n",
            "epoch: 383, training accuracy: 87.61213156770611\n",
            "epoch: 384, training accuracy: 87.63348996155489\n",
            "epoch: 385, training accuracy: 87.7402819307988\n",
            "epoch: 386, training accuracy: 87.78299871849637\n",
            "epoch: 387, training accuracy: 87.40922682614267\n",
            "epoch: 388, training accuracy: 87.79367791542076\n",
            "epoch: 389, training accuracy: 87.66552755232806\n",
            "epoch: 390, training accuracy: 87.68688594617686\n",
            "epoch: 391, training accuracy: 87.84707390004272\n",
            "epoch: 392, training accuracy: 87.80435711234516\n",
            "epoch: 393, training accuracy: 87.58009397693294\n",
            "epoch: 394, training accuracy: 87.65484835540367\n",
            "epoch: 395, training accuracy: 87.48398120461341\n",
            "epoch: 396, training accuracy: 87.65484835540367\n",
            "epoch: 397, training accuracy: 87.78299871849637\n",
            "epoch: 398, training accuracy: 87.91114908158907\n",
            "epoch: 399, training accuracy: 87.72960273387442\n",
            "epoch: 400, training accuracy: 87.61213156770611\n",
            "epoch: 401, training accuracy: 87.8577530969671\n",
            "epoch: 402, training accuracy: 87.5053395984622\n",
            "epoch: 403, training accuracy: 87.67620674925246\n",
            "epoch: 404, training accuracy: 87.83639470311833\n",
            "epoch: 405, training accuracy: 87.77231952157197\n",
            "epoch: 406, training accuracy: 87.69756514310124\n",
            "epoch: 407, training accuracy: 87.60145237078171\n",
            "epoch: 408, training accuracy: 87.63348996155489\n",
            "epoch: 409, training accuracy: 87.95386586928663\n",
            "epoch: 410, training accuracy: 87.8577530969671\n",
            "epoch: 411, training accuracy: 87.71892353695002\n",
            "epoch: 412, training accuracy: 88.13541221700129\n",
            "Testing accuracy: 85.49\n",
            "Testing loss: 0.3558\n"
          ]
        }
      ]
    },
    {
      "cell_type": "code",
      "source": [
        "np.random.seed(SEED)\n",
        "random.seed(SEED)\n",
        "torch.manual_seed(SEED)\n",
        "torch.cuda.manual_seed(SEED)\n",
        "torch.cuda.manual_seed_all(SEED)\n",
        "\n",
        "\n",
        "tensor_Xs_test = torch.tensor(Xs_test.values.astype(np.float32))\n",
        "tensor_y_test = torch.tensor(y_test.values.astype(np.float32))\n",
        "\n",
        "\n",
        "model = Network(10, layer1, layer2, 1).to(device)\n",
        "model.load_state_dict(torch.load(\"model\"))\n",
        "model.eval()\n",
        "\n",
        "y_pred = model(tensor_Xs_test.to(device))\n",
        "\n",
        "y_pred = torch.round(y_pred.data).flatten().cpu().tolist()\n",
        "\n",
        "print(f\"Accuracy: {round(metrics.accuracy_score(y_test, y_pred),2)}\")\n",
        "\n",
        "scores_pos = metrics.precision_recall_fscore_support(\n",
        "    y_test, y_pred, average=None, labels=[1]\n",
        ")\n",
        "precision = scores_pos[0][0]\n",
        "recall = scores_pos[1][0]\n",
        "f1score = scores_pos[2][0]\n",
        "specificity = metrics.precision_recall_fscore_support(\n",
        "    y_test, y_pred, average=None, labels=[0]\n",
        ")[1][\n",
        "    0\n",
        "]  # specificity is recall of negative class\n",
        "\n",
        "print(f\"Precision: {round(precision,2)}\")\n",
        "print(f\"recall: {round(recall,2)}\")\n",
        "print(f\"specificity: {round(specificity,2)}\")\n",
        "print(f\"f1-score: {round(f1score,2)}\")\n",
        "\n",
        "conf_matrix = metrics.confusion_matrix(y_true=y_test, y_pred=y_pred, labels = [0,1]) # h is negative, g is positive\n",
        "\n",
        "fig, ax = plt.subplots(figsize=(5, 5))\n",
        "ax.matshow(conf_matrix, cmap=plt.cm.Oranges, alpha=0.3)\n",
        "for i in range(conf_matrix.shape[0]):\n",
        "    for j in range(conf_matrix.shape[1]):\n",
        "        ax.text(x=j, y=i,s=conf_matrix[i, j], va='center', ha='center', size='xx-large')\n",
        " \n",
        "plt.xlabel('Predictions', fontsize=18)\n",
        "plt.ylabel('Actuals', fontsize=18)\n",
        "plt.title('Confusion Matrix', fontsize=18)\n",
        "plt.show()"
      ],
      "metadata": {
        "colab": {
          "base_uri": "https://localhost:8080/",
          "height": 445
        },
        "id": "y8_gI1Lf0caV",
        "outputId": "4b5a0f0c-0a13-43df-8c13-866d150c2e8a"
      },
      "execution_count": null,
      "outputs": [
        {
          "output_type": "stream",
          "name": "stdout",
          "text": [
            "Accuracy: 0.85\n",
            "Precision: 0.9\n",
            "recall: 0.8\n",
            "specificity: 0.91\n",
            "f1-score: 0.85\n"
          ]
        },
        {
          "output_type": "display_data",
          "data": {
            "text/plain": [
              "<Figure size 360x360 with 1 Axes>"
            ],
            "image/png": "[encoded data removed]"
          },
          "metadata": {
            "needs_background": "light"
          }
        }
      ]
    },
    {
      "cell_type": "markdown",
      "source": [
        "Great overall scores, with the highest precision and specificity."
      ],
      "metadata": {
        "id": "jaCkEGGx9oFV"
      }
    }
  ]
}